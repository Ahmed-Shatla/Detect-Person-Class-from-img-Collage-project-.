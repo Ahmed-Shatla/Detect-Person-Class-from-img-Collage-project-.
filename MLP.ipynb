{
  "nbformat": 4,
  "nbformat_minor": 0,
  "metadata": {
    "colab": {
      "name": "MLP.ipynb",
      "provenance": [],
      "authorship_tag": "ABX9TyNM2f7mUB5cQPB5qmoYjydJ",
      "include_colab_link": true
    },
    "kernelspec": {
      "name": "python3",
      "display_name": "Python 3"
    },
    "language_info": {
      "name": "python"
    },
    "accelerator": "TPU"
  },
  "cells": [
    {
      "cell_type": "markdown",
      "metadata": {
        "id": "view-in-github",
        "colab_type": "text"
      },
      "source": [
        "<a href=\"https://colab.research.google.com/github/Ahmed-Shatla/Detect-Person-Class-from-imges-CroppedYale-Faces-Dataset/blob/main/MLP.ipynb\" target=\"_parent\"><img src=\"https://colab.research.google.com/assets/colab-badge.svg\" alt=\"Open In Colab\"/></a>"
      ]
    },
    {
      "cell_type": "code",
      "execution_count": 1,
      "metadata": {
        "colab": {
          "base_uri": "https://localhost:8080/"
        },
        "id": "xOI416PU6-OC",
        "outputId": "dce77e5b-4c65-48e7-f1ea-fd1948824bc0"
      },
      "outputs": [
        {
          "output_type": "stream",
          "name": "stdout",
          "text": [
            "Drive already mounted at /content/drive; to attempt to forcibly remount, call drive.mount(\"/content/drive\", force_remount=True).\n"
          ]
        }
      ],
      "source": [
        "from google.colab import drive\n",
        "drive.mount('/content/drive')"
      ]
    },
    {
      "cell_type": "code",
      "source": [
        "import numpy as np\n",
        "import pandas as pd\n",
        "import os\n",
        "import random \n",
        "import matplotlib.pyplot as plt\n",
        "import seaborn as sns\n",
        "from sklearn.model_selection import train_test_split\n",
        "import cv2"
      ],
      "metadata": {
        "id": "bLhP0ZCC7VdS"
      },
      "execution_count": 2,
      "outputs": []
    },
    {
      "cell_type": "code",
      "source": [
        "data_path = '/content/drive/MyDrive/Faces data/CroppedYale'\n",
        "len(os.listdir(data_path))"
      ],
      "metadata": {
        "colab": {
          "base_uri": "https://localhost:8080/"
        },
        "id": "YczFxRQX7esE",
        "outputId": "17015180-f1be-431c-c204-10ce14aa5bd1"
      },
      "execution_count": 3,
      "outputs": [
        {
          "output_type": "execute_result",
          "data": {
            "text/plain": [
              "38"
            ]
          },
          "metadata": {},
          "execution_count": 3
        }
      ]
    },
    {
      "cell_type": "code",
      "source": [
        "def read_img(path):\n",
        "  files_names = os.listdir(path) \n",
        "  imgs = []\n",
        "  target = []\n",
        "  for i in files_names:\n",
        "    for j in os.listdir(path+'/'+i):\n",
        "      if '.pgm' in j:\n",
        "        img = cv2.imread(path+'/'+i+'/'+j)\n",
        "        imgs.append(img)\n",
        "        target.append(i)\n",
        "  return imgs,target"
      ],
      "metadata": {
        "id": "2B-nhyxO7gJW"
      },
      "execution_count": 4,
      "outputs": []
    },
    {
      "cell_type": "code",
      "source": [
        "from sklearn.model_selection import train_test_split\n",
        "X,y = read_img(data_path)"
      ],
      "metadata": {
        "id": "fmlQQN-y7hjf"
      },
      "execution_count": 5,
      "outputs": []
    },
    {
      "cell_type": "code",
      "source": [
        "X = np.array(X)\n",
        "y = np.array(y).reshape(-1,1)"
      ],
      "metadata": {
        "colab": {
          "base_uri": "https://localhost:8080/"
        },
        "id": "znnBD3eA7i6i",
        "outputId": "d228fdab-694a-48a8-fce4-bc46b7ab8096"
      },
      "execution_count": 6,
      "outputs": [
        {
          "output_type": "stream",
          "name": "stderr",
          "text": [
            "/usr/local/lib/python3.7/dist-packages/ipykernel_launcher.py:1: VisibleDeprecationWarning: Creating an ndarray from ragged nested sequences (which is a list-or-tuple of lists-or-tuples-or ndarrays with different lengths or shapes) is deprecated. If you meant to do this, you must specify 'dtype=object' when creating the ndarray.\n",
            "  \"\"\"Entry point for launching an IPython kernel.\n"
          ]
        }
      ]
    },
    {
      "cell_type": "code",
      "source": [
        "def resize_images(images):\n",
        "  imgs = []\n",
        "  images1 = np.asarray(images)\n",
        "  for i in images1:\n",
        "    img = cv2.resize(i,(168, 192))\n",
        "    imgs.append(img)\n",
        "\n",
        "  return imgs"
      ],
      "metadata": {
        "id": "Kz-jPhT07kmE"
      },
      "execution_count": 7,
      "outputs": []
    },
    {
      "cell_type": "code",
      "source": [
        "images = resize_images(X)\n",
        "images[1].shape"
      ],
      "metadata": {
        "colab": {
          "base_uri": "https://localhost:8080/"
        },
        "id": "BohUbXCe7l9c",
        "outputId": "2184df8b-9b0d-4a23-d42d-9087297fac3f"
      },
      "execution_count": 8,
      "outputs": [
        {
          "output_type": "execute_result",
          "data": {
            "text/plain": [
              "(192, 168, 3)"
            ]
          },
          "metadata": {},
          "execution_count": 8
        }
      ]
    },
    {
      "cell_type": "code",
      "source": [
        "plt.imshow(X[20])"
      ],
      "metadata": {
        "colab": {
          "base_uri": "https://localhost:8080/",
          "height": 287
        },
        "id": "dZAQXByM7nRt",
        "outputId": "bca07d88-0cd1-4e23-e597-367d43c924dc"
      },
      "execution_count": 9,
      "outputs": [
        {
          "output_type": "execute_result",
          "data": {
            "text/plain": [
              "<matplotlib.image.AxesImage at 0x7fae89153490>"
            ]
          },
          "metadata": {},
          "execution_count": 9
        },
        {
          "output_type": "display_data",
          "data": {
            "text/plain": [
              "<Figure size 432x288 with 1 Axes>"
            ],
            "image/png": "[encoded data removed]"
          },
          "metadata": {
            "needs_background": "light"
          }
        }
      ]
    },
    {
      "cell_type": "code",
      "source": [
        "X_train, X_test, y_train, y_test =train_test_split(images,y,test_size=0.1,shuffle=True,random_state=1)\n",
        "X_train = np.array(X_train)\n",
        "X_train = X_train/255\n",
        "X_test = np.array(X_test)\n",
        "X_test = X_test/255\n",
        "y_train = np.array(y_train)\n",
        "y_test = np.array(y_test)"
      ],
      "metadata": {
        "id": "lM62es2l7o8K"
      },
      "execution_count": 10,
      "outputs": []
    },
    {
      "cell_type": "code",
      "source": [
        ""
      ],
      "metadata": {
        "id": "d2JgF0eIZmDN"
      },
      "execution_count": 10,
      "outputs": []
    },
    {
      "cell_type": "code",
      "source": [
        "X_train.shape"
      ],
      "metadata": {
        "colab": {
          "base_uri": "https://localhost:8080/"
        },
        "id": "fuRVkne97o56",
        "outputId": "22f146b7-404d-41ab-f87d-1126c53c694e"
      },
      "execution_count": 11,
      "outputs": [
        {
          "output_type": "execute_result",
          "data": {
            "text/plain": [
              "(2223, 192, 168, 3)"
            ]
          },
          "metadata": {},
          "execution_count": 11
        }
      ]
    },
    {
      "cell_type": "code",
      "source": [
        "y_train\n"
      ],
      "metadata": {
        "colab": {
          "base_uri": "https://localhost:8080/"
        },
        "id": "dUHdCSqS7o3n",
        "outputId": "dd1bab03-9a0b-4f67-ec32-3057ae37dce0"
      },
      "execution_count": 12,
      "outputs": [
        {
          "output_type": "execute_result",
          "data": {
            "text/plain": [
              "array([['yaleB13'],\n",
              "       ['yaleB10'],\n",
              "       ['yaleB12'],\n",
              "       ...,\n",
              "       ['yaleB12'],\n",
              "       ['yaleB08'],\n",
              "       ['yaleB12']], dtype='<U7')"
            ]
          },
          "metadata": {},
          "execution_count": 12
        }
      ]
    },
    {
      "cell_type": "code",
      "source": [
        "from sklearn.preprocessing import LabelEncoder\n",
        "lb = LabelEncoder()\n",
        "y_train = lb.fit_transform(y_train)\n",
        "y_test = lb.fit_transform(y_test)"
      ],
      "metadata": {
        "colab": {
          "base_uri": "https://localhost:8080/"
        },
        "id": "2jbmpYN-7o1A",
        "outputId": "ea7ae53f-fc45-4ed9-c1a1-7b9792ebc2f0"
      },
      "execution_count": 13,
      "outputs": [
        {
          "output_type": "stream",
          "name": "stderr",
          "text": [
            "/usr/local/lib/python3.7/dist-packages/sklearn/preprocessing/_label.py:115: DataConversionWarning: A column-vector y was passed when a 1d array was expected. Please change the shape of y to (n_samples, ), for example using ravel().\n",
            "  y = column_or_1d(y, warn=True)\n"
          ]
        }
      ]
    },
    {
      "cell_type": "code",
      "source": [
        "from tensorflow.keras.utils import to_categorical\n",
        "y_train = to_categorical(y_train)\n",
        "y_test = to_categorical(y_test)\n",
        "\n",
        "y_test.shape"
      ],
      "metadata": {
        "colab": {
          "base_uri": "https://localhost:8080/"
        },
        "id": "R509wDk67oyg",
        "outputId": "f91f620c-8b8f-4758-d4a5-9e1dff94d293"
      },
      "execution_count": 14,
      "outputs": [
        {
          "output_type": "execute_result",
          "data": {
            "text/plain": [
              "(247, 38)"
            ]
          },
          "metadata": {},
          "execution_count": 14
        }
      ]
    },
    {
      "cell_type": "code",
      "source": [
        "from tensorflow.keras import Sequential\n",
        "from tensorflow.keras.layers import Dense,Dropout,Activation,Flatten"
      ],
      "metadata": {
        "id": "MNdLGXta7owA"
      },
      "execution_count": 15,
      "outputs": []
    },
    {
      "cell_type": "code",
      "source": [
        "model = Sequential()\n",
        "model.add(Flatten(input_shape=(192,168,3)))\n",
        "\n",
        "model.add(Dense(units=128,activation='relu'))\n",
        "\n",
        "model.add(Dense(units=512,activation='relu'))\n",
        "\n",
        "\n",
        "model.add(Dense(1024,activation = 'relu'))\n",
        "model.add(Dropout(0.1))   \n",
        "\n",
        "model.add(Dense(units=512,activation='relu'))\n",
        "\n",
        "model.add(Dense(units=128,activation='relu'))\n",
        "\n",
        "\n",
        "\n",
        "model.add(Dense(38,activation = 'softmax'))\n"
      ],
      "metadata": {
        "id": "_Tte5HHn7otf"
      },
      "execution_count": 16,
      "outputs": []
    },
    {
      "cell_type": "code",
      "source": [
        "model.summary()"
      ],
      "metadata": {
        "colab": {
          "base_uri": "https://localhost:8080/"
        },
        "id": "qpMutjcEUbmu",
        "outputId": "55903220-4b67-466c-d73b-ebae32e92354"
      },
      "execution_count": 17,
      "outputs": [
        {
          "output_type": "stream",
          "name": "stdout",
          "text": [
            "Model: \"sequential\"\n",
            "_________________________________________________________________\n",
            " Layer (type)                Output Shape              Param #   \n",
            "=================================================================\n",
            " flatten (Flatten)           (None, 96768)             0         \n",
            "                                                                 \n",
            " dense (Dense)               (None, 128)               12386432  \n",
            "                                                                 \n",
            " dense_1 (Dense)             (None, 512)               66048     \n",
            "                                                                 \n",
            " dense_2 (Dense)             (None, 1024)              525312    \n",
            "                                                                 \n",
            " dropout (Dropout)           (None, 1024)              0         \n",
            "                                                                 \n",
            " dense_3 (Dense)             (None, 512)               524800    \n",
            "                                                                 \n",
            " dense_4 (Dense)             (None, 128)               65664     \n",
            "                                                                 \n",
            " dense_5 (Dense)             (None, 38)                4902      \n",
            "                                                                 \n",
            "=================================================================\n",
            "Total params: 13,573,158\n",
            "Trainable params: 13,573,158\n",
            "Non-trainable params: 0\n",
            "_________________________________________________________________\n"
          ]
        }
      ]
    },
    {
      "cell_type": "code",
      "source": [
        "model.compile(optimizer = 'SGD', loss = 'categorical_crossentropy',metrics = ['accuracy'])"
      ],
      "metadata": {
        "id": "VhgdryfS7ooH"
      },
      "execution_count": 18,
      "outputs": []
    },
    {
      "cell_type": "code",
      "source": [
        "from tensorflow.keras.preprocessing.image import ImageDataGenerator\n",
        "train_gen = ImageDataGenerator()\n",
        "valid_gen = ImageDataGenerator()"
      ],
      "metadata": {
        "id": "aAI2OYx17olp"
      },
      "execution_count": 19,
      "outputs": []
    },
    {
      "cell_type": "code",
      "source": [
        "X_train, X_valid, y_train, y_valid =train_test_split(X_train,y_train,test_size=0.1,shuffle=True,random_state=1)\n",
        "X_valid.shape"
      ],
      "metadata": {
        "colab": {
          "base_uri": "https://localhost:8080/"
        },
        "id": "z5I4EbVlVhzF",
        "outputId": "c5f636de-91ed-49ae-c15e-393f075804cb"
      },
      "execution_count": 20,
      "outputs": [
        {
          "output_type": "execute_result",
          "data": {
            "text/plain": [
              "(223, 192, 168, 3)"
            ]
          },
          "metadata": {},
          "execution_count": 20
        }
      ]
    },
    {
      "cell_type": "code",
      "source": [
        "trainG = train_gen.flow(X_train,y_train,batch_size=32)\n",
        "validG = valid_gen.flow(X_valid,y_valid,batch_size=8)"
      ],
      "metadata": {
        "id": "ukypqOACVm3-"
      },
      "execution_count": 21,
      "outputs": []
    },
    {
      "cell_type": "code",
      "source": [
        "steps_train = int(len(X_train)/32)\n",
        "steps_validate = int(len(X_valid)/8)"
      ],
      "metadata": {
        "id": "pIg_q16dVp5d"
      },
      "execution_count": 22,
      "outputs": []
    },
    {
      "cell_type": "code",
      "source": [
        "history = model.fit_generator(trainG,\n",
        "                                  steps_per_epoch=steps_train, \n",
        "                                  epochs=70,\n",
        "                                  validation_data=validG,\n",
        "                                  validation_steps=steps_validate,\n",
        "                                  verbose=1,\n",
        "                                  shuffle = 1)"
      ],
      "metadata": {
        "colab": {
          "base_uri": "https://localhost:8080/"
        },
        "id": "S0-EGACqVse1",
        "outputId": "0c31c3c9-8475-47b7-c318-30e620740385"
      },
      "execution_count": 23,
      "outputs": [
        {
          "output_type": "stream",
          "name": "stdout",
          "text": [
            "Epoch 1/70\n"
          ]
        },
        {
          "output_type": "stream",
          "name": "stderr",
          "text": [
            "/usr/local/lib/python3.7/dist-packages/ipykernel_launcher.py:7: UserWarning: `Model.fit_generator` is deprecated and will be removed in a future version. Please use `Model.fit`, which supports generators.\n",
            "  import sys\n"
          ]
        },
        {
          "output_type": "stream",
          "name": "stdout",
          "text": [
            "62/62 [==============================] - 7s 92ms/step - loss: 3.6391 - accuracy: 0.0259 - val_loss: 3.6283 - val_accuracy: 0.0370\n",
            "Epoch 2/70\n",
            "62/62 [==============================] - 6s 94ms/step - loss: 3.6119 - accuracy: 0.0401 - val_loss: 3.6107 - val_accuracy: 0.0417\n",
            "Epoch 3/70\n",
            "62/62 [==============================] - 6s 95ms/step - loss: 3.5494 - accuracy: 0.0701 - val_loss: 3.5481 - val_accuracy: 0.0463\n",
            "Epoch 4/70\n",
            "62/62 [==============================] - 6s 102ms/step - loss: 3.3810 - accuracy: 0.1240 - val_loss: 3.2393 - val_accuracy: 0.1528\n",
            "Epoch 5/70\n",
            "62/62 [==============================] - 6s 91ms/step - loss: 3.1271 - accuracy: 0.1758 - val_loss: 2.9621 - val_accuracy: 0.2269\n",
            "Epoch 6/70\n",
            "62/62 [==============================] - 5s 87ms/step - loss: 2.8615 - accuracy: 0.2287 - val_loss: 2.7189 - val_accuracy: 0.2222\n",
            "Epoch 7/70\n",
            "62/62 [==============================] - 6s 96ms/step - loss: 2.5274 - accuracy: 0.2886 - val_loss: 2.1887 - val_accuracy: 0.4306\n",
            "Epoch 8/70\n",
            "62/62 [==============================] - 6s 89ms/step - loss: 2.1809 - accuracy: 0.3953 - val_loss: 1.8720 - val_accuracy: 0.4259\n",
            "Epoch 9/70\n",
            "62/62 [==============================] - 6s 101ms/step - loss: 1.9118 - accuracy: 0.4827 - val_loss: 1.4187 - val_accuracy: 0.5880\n",
            "Epoch 10/70\n",
            "62/62 [==============================] - 5s 87ms/step - loss: 1.7060 - accuracy: 0.5178 - val_loss: 1.5615 - val_accuracy: 0.6019\n",
            "Epoch 11/70\n",
            "62/62 [==============================] - 6s 104ms/step - loss: 1.2701 - accuracy: 0.6560 - val_loss: 1.0416 - val_accuracy: 0.7361\n",
            "Epoch 12/70\n",
            "62/62 [==============================] - 6s 100ms/step - loss: 1.2904 - accuracy: 0.6573 - val_loss: 1.8559 - val_accuracy: 0.5185\n",
            "Epoch 13/70\n",
            "62/62 [==============================] - 6s 93ms/step - loss: 0.8090 - accuracy: 0.7962 - val_loss: 0.7708 - val_accuracy: 0.8333\n",
            "Epoch 14/70\n",
            "62/62 [==============================] - 6s 94ms/step - loss: 0.9680 - accuracy: 0.7597 - val_loss: 0.7794 - val_accuracy: 0.8056\n",
            "Epoch 15/70\n",
            "62/62 [==============================] - 6s 91ms/step - loss: 0.5347 - accuracy: 0.8831 - val_loss: 0.9105 - val_accuracy: 0.7500\n",
            "Epoch 16/70\n",
            "62/62 [==============================] - 6s 90ms/step - loss: 0.7968 - accuracy: 0.8298 - val_loss: 0.4897 - val_accuracy: 0.9074\n",
            "Epoch 17/70\n",
            "62/62 [==============================] - 6s 94ms/step - loss: 0.3611 - accuracy: 0.9294 - val_loss: 0.4226 - val_accuracy: 0.9074\n",
            "Epoch 18/70\n",
            "62/62 [==============================] - 6s 104ms/step - loss: 0.6001 - accuracy: 0.8857 - val_loss: 0.4369 - val_accuracy: 0.8889\n",
            "Epoch 19/70\n",
            "62/62 [==============================] - 7s 110ms/step - loss: 0.7840 - accuracy: 0.8598 - val_loss: 0.5268 - val_accuracy: 0.8611\n",
            "Epoch 20/70\n",
            "62/62 [==============================] - 6s 93ms/step - loss: 0.2896 - accuracy: 0.9512 - val_loss: 0.3837 - val_accuracy: 0.8935\n",
            "Epoch 21/70\n",
            "62/62 [==============================] - 6s 96ms/step - loss: 0.2302 - accuracy: 0.9609 - val_loss: 0.3308 - val_accuracy: 0.9074\n",
            "Epoch 22/70\n",
            "62/62 [==============================] - 6s 89ms/step - loss: 0.1926 - accuracy: 0.9710 - val_loss: 0.3185 - val_accuracy: 0.9259\n",
            "Epoch 23/70\n",
            "62/62 [==============================] - 6s 90ms/step - loss: 0.1874 - accuracy: 0.9700 - val_loss: 0.2885 - val_accuracy: 0.9259\n",
            "Epoch 24/70\n",
            "62/62 [==============================] - 5s 87ms/step - loss: 0.1524 - accuracy: 0.9771 - val_loss: 0.2643 - val_accuracy: 0.9213\n",
            "Epoch 25/70\n",
            "62/62 [==============================] - 6s 91ms/step - loss: 0.1465 - accuracy: 0.9756 - val_loss: 0.2617 - val_accuracy: 0.9352\n",
            "Epoch 26/70\n",
            "62/62 [==============================] - 6s 99ms/step - loss: 0.1535 - accuracy: 0.9715 - val_loss: 0.2870 - val_accuracy: 0.9167\n",
            "Epoch 27/70\n",
            "62/62 [==============================] - 6s 91ms/step - loss: 0.1327 - accuracy: 0.9827 - val_loss: 0.2265 - val_accuracy: 0.9352\n",
            "Epoch 28/70\n",
            "62/62 [==============================] - 5s 87ms/step - loss: 1.3086 - accuracy: 0.8318 - val_loss: 1.2353 - val_accuracy: 0.7546\n",
            "Epoch 29/70\n",
            "62/62 [==============================] - 6s 91ms/step - loss: 0.5841 - accuracy: 0.8892 - val_loss: 0.3579 - val_accuracy: 0.9074\n",
            "Epoch 30/70\n",
            "62/62 [==============================] - 6s 89ms/step - loss: 0.5643 - accuracy: 0.8811 - val_loss: 0.3031 - val_accuracy: 0.9352\n",
            "Epoch 31/70\n",
            "62/62 [==============================] - 6s 96ms/step - loss: 0.1754 - accuracy: 0.9782 - val_loss: 0.2964 - val_accuracy: 0.9213\n",
            "Epoch 32/70\n",
            "62/62 [==============================] - 6s 99ms/step - loss: 0.1437 - accuracy: 0.9782 - val_loss: 0.2292 - val_accuracy: 0.9537\n",
            "Epoch 33/70\n",
            "62/62 [==============================] - 6s 96ms/step - loss: 0.1244 - accuracy: 0.9863 - val_loss: 0.2348 - val_accuracy: 0.9352\n",
            "Epoch 34/70\n",
            "62/62 [==============================] - 6s 91ms/step - loss: 0.1068 - accuracy: 0.9878 - val_loss: 0.2201 - val_accuracy: 0.9537\n",
            "Epoch 35/70\n",
            "62/62 [==============================] - 6s 96ms/step - loss: 1.0211 - accuracy: 0.8582 - val_loss: 1.2137 - val_accuracy: 0.7593\n",
            "Epoch 36/70\n",
            "62/62 [==============================] - 6s 89ms/step - loss: 0.4994 - accuracy: 0.9065 - val_loss: 0.3030 - val_accuracy: 0.9259\n",
            "Epoch 37/70\n",
            "62/62 [==============================] - 6s 94ms/step - loss: 0.1610 - accuracy: 0.9797 - val_loss: 0.2439 - val_accuracy: 0.9583\n",
            "Epoch 38/70\n",
            "62/62 [==============================] - 6s 97ms/step - loss: 0.1172 - accuracy: 0.9873 - val_loss: 0.2043 - val_accuracy: 0.9444\n",
            "Epoch 39/70\n",
            "62/62 [==============================] - 6s 96ms/step - loss: 0.1042 - accuracy: 0.9878 - val_loss: 0.1992 - val_accuracy: 0.9583\n",
            "Epoch 40/70\n",
            "62/62 [==============================] - 6s 93ms/step - loss: 0.4974 - accuracy: 0.9350 - val_loss: 1.4783 - val_accuracy: 0.6019\n",
            "Epoch 41/70\n",
            "62/62 [==============================] - 6s 101ms/step - loss: 0.2438 - accuracy: 0.9588 - val_loss: 0.2126 - val_accuracy: 0.9444\n",
            "Epoch 42/70\n",
            "62/62 [==============================] - 6s 89ms/step - loss: 0.1071 - accuracy: 0.9893 - val_loss: 0.1977 - val_accuracy: 0.9583\n",
            "Epoch 43/70\n",
            "62/62 [==============================] - 5s 88ms/step - loss: 0.0915 - accuracy: 0.9903 - val_loss: 0.1890 - val_accuracy: 0.9583\n",
            "Epoch 44/70\n",
            "62/62 [==============================] - 6s 95ms/step - loss: 0.0805 - accuracy: 0.9909 - val_loss: 0.1465 - val_accuracy: 0.9630\n",
            "Epoch 45/70\n",
            "62/62 [==============================] - 6s 97ms/step - loss: 0.0753 - accuracy: 0.9914 - val_loss: 0.1661 - val_accuracy: 0.9537\n",
            "Epoch 46/70\n",
            "62/62 [==============================] - 6s 99ms/step - loss: 0.0709 - accuracy: 0.9919 - val_loss: 0.1831 - val_accuracy: 0.9583\n",
            "Epoch 47/70\n",
            "62/62 [==============================] - 6s 100ms/step - loss: 0.0677 - accuracy: 0.9914 - val_loss: 0.1709 - val_accuracy: 0.9630\n",
            "Epoch 48/70\n",
            "62/62 [==============================] - 6s 98ms/step - loss: 0.0658 - accuracy: 0.9919 - val_loss: 0.1805 - val_accuracy: 0.9583\n",
            "Epoch 49/70\n",
            "62/62 [==============================] - 6s 103ms/step - loss: 0.0641 - accuracy: 0.9914 - val_loss: 0.1650 - val_accuracy: 0.9583\n",
            "Epoch 50/70\n",
            "62/62 [==============================] - 6s 99ms/step - loss: 0.0618 - accuracy: 0.9914 - val_loss: 0.1829 - val_accuracy: 0.9444\n",
            "Epoch 51/70\n",
            "62/62 [==============================] - 6s 93ms/step - loss: 0.0604 - accuracy: 0.9914 - val_loss: 0.2393 - val_accuracy: 0.9306\n",
            "Epoch 52/70\n",
            "62/62 [==============================] - 6s 90ms/step - loss: 0.0588 - accuracy: 0.9924 - val_loss: 0.1837 - val_accuracy: 0.9491\n",
            "Epoch 53/70\n",
            "62/62 [==============================] - 6s 99ms/step - loss: 0.0543 - accuracy: 0.9939 - val_loss: 0.1873 - val_accuracy: 0.9583\n",
            "Epoch 54/70\n",
            "62/62 [==============================] - 6s 104ms/step - loss: 0.0551 - accuracy: 0.9924 - val_loss: 0.1837 - val_accuracy: 0.9537\n",
            "Epoch 55/70\n",
            "62/62 [==============================] - 6s 101ms/step - loss: 0.0518 - accuracy: 0.9934 - val_loss: 0.1862 - val_accuracy: 0.9491\n",
            "Epoch 56/70\n",
            "62/62 [==============================] - 6s 96ms/step - loss: 0.0516 - accuracy: 0.9929 - val_loss: 0.1501 - val_accuracy: 0.9583\n",
            "Epoch 57/70\n",
            "62/62 [==============================] - 6s 94ms/step - loss: 1.8804 - accuracy: 0.8338 - val_loss: 2.7521 - val_accuracy: 0.3102\n",
            "Epoch 58/70\n",
            "62/62 [==============================] - 6s 99ms/step - loss: 1.6246 - accuracy: 0.6204 - val_loss: 1.2411 - val_accuracy: 0.6806\n",
            "Epoch 59/70\n",
            "62/62 [==============================] - 6s 101ms/step - loss: 0.6735 - accuracy: 0.8511 - val_loss: 0.4083 - val_accuracy: 0.9120\n",
            "Epoch 60/70\n",
            "62/62 [==============================] - 6s 101ms/step - loss: 0.1788 - accuracy: 0.9756 - val_loss: 0.2961 - val_accuracy: 0.9167\n",
            "Epoch 61/70\n",
            "62/62 [==============================] - 6s 97ms/step - loss: 0.6252 - accuracy: 0.8994 - val_loss: 1.2491 - val_accuracy: 0.7454\n",
            "Epoch 62/70\n",
            "62/62 [==============================] - 6s 92ms/step - loss: 0.2895 - accuracy: 0.9492 - val_loss: 0.2409 - val_accuracy: 0.9491\n",
            "Epoch 63/70\n",
            "62/62 [==============================] - 6s 102ms/step - loss: 0.1033 - accuracy: 0.9883 - val_loss: 0.2295 - val_accuracy: 0.9444\n",
            "Epoch 64/70\n",
            "62/62 [==============================] - 6s 95ms/step - loss: 0.0908 - accuracy: 0.9888 - val_loss: 0.1981 - val_accuracy: 0.9491\n",
            "Epoch 65/70\n",
            "62/62 [==============================] - 6s 94ms/step - loss: 0.0721 - accuracy: 0.9929 - val_loss: 0.1615 - val_accuracy: 0.9676\n",
            "Epoch 66/70\n",
            "62/62 [==============================] - 6s 96ms/step - loss: 0.0682 - accuracy: 0.9909 - val_loss: 0.1579 - val_accuracy: 0.9630\n",
            "Epoch 67/70\n",
            "62/62 [==============================] - 6s 96ms/step - loss: 0.0625 - accuracy: 0.9919 - val_loss: 0.1962 - val_accuracy: 0.9491\n",
            "Epoch 68/70\n",
            "62/62 [==============================] - 7s 107ms/step - loss: 0.8286 - accuracy: 0.8841 - val_loss: 1.2809 - val_accuracy: 0.6898\n",
            "Epoch 69/70\n",
            "62/62 [==============================] - 6s 91ms/step - loss: 0.3098 - accuracy: 0.9421 - val_loss: 0.2261 - val_accuracy: 0.9537\n",
            "Epoch 70/70\n",
            "62/62 [==============================] - 6s 95ms/step - loss: 0.0809 - accuracy: 0.9934 - val_loss: 0.1882 - val_accuracy: 0.9630\n"
          ]
        }
      ]
    },
    {
      "cell_type": "code",
      "source": [
        "plt.plot(history.history['loss'])\n",
        "plt.plot(history.history['val_loss'])\n",
        "plt.legend(['training_Loss','Val_Loss'])\n",
        "plt.title('Loss')\n",
        "plt.xlabel('epochs')"
      ],
      "metadata": {
        "colab": {
          "base_uri": "https://localhost:8080/",
          "height": 314
        },
        "id": "8Lr6flOuV-uF",
        "outputId": "f35af827-d2e7-4733-ac0b-7f87068aea19"
      },
      "execution_count": 24,
      "outputs": [
        {
          "output_type": "execute_result",
          "data": {
            "text/plain": [
              "Text(0.5, 0, 'epochs')"
            ]
          },
          "metadata": {},
          "execution_count": 24
        },
        {
          "output_type": "display_data",
          "data": {
            "text/plain": [
              "<Figure size 432x288 with 1 Axes>"
            ],
            "image/png": "[encoded data removed]"
          },
          "metadata": {
            "needs_background": "light"
          }
        }
      ]
    },
    {
      "cell_type": "code",
      "source": [
        "plt.plot(history.history['accuracy'])\n",
        "plt.plot(history.history['val_accuracy'])\n",
        "plt.legend(['training_accuracy','Val_accuracy'])\n",
        "plt.title('accuracy')\n",
        "plt.xlabel('epochs')"
      ],
      "metadata": {
        "colab": {
          "base_uri": "https://localhost:8080/",
          "height": 314
        },
        "id": "dNHFLVJFW3Yc",
        "outputId": "ad00ae1a-c3b3-4bf2-9b68-89301c3ba819"
      },
      "execution_count": 25,
      "outputs": [
        {
          "output_type": "execute_result",
          "data": {
            "text/plain": [
              "Text(0.5, 0, 'epochs')"
            ]
          },
          "metadata": {},
          "execution_count": 25
        },
        {
          "output_type": "display_data",
          "data": {
            "text/plain": [
              "<Figure size 432x288 with 1 Axes>"
            ],
            "image/png": "[encoded data removed]"
          },
          "metadata": {
            "needs_background": "light"
          }
        }
      ]
    },
    {
      "cell_type": "code",
      "source": [
        "test_loss, test_acc = model.evaluate(X_test,y_test, verbose=2)\n"
      ],
      "metadata": {
        "colab": {
          "base_uri": "https://localhost:8080/"
        },
        "id": "IVnuDoxaW7cN",
        "outputId": "6ee1cac8-fec3-4bdf-a78f-399f40a6151a"
      },
      "execution_count": 26,
      "outputs": [
        {
          "output_type": "stream",
          "name": "stdout",
          "text": [
            "8/8 - 0s - loss: 0.1525 - accuracy: 0.9676 - 381ms/epoch - 48ms/step\n"
          ]
        }
      ]
    },
    {
      "cell_type": "code",
      "source": [
        "train_gen_augmanted = ImageDataGenerator(rotation_range=30,\n",
        "                                         zoom_range=0.12,\n",
        "                                         horizontal_flip=True)\n",
        "trainGaug = train_gen_augmanted.flow(X_train,y_train,batch_size=32)"
      ],
      "metadata": {
        "id": "50cxZkcOkNL1"
      },
      "execution_count": 27,
      "outputs": []
    },
    {
      "cell_type": "code",
      "source": [
        "history = model.fit_generator(trainGaug,\n",
        "                                  steps_per_epoch=steps_train, \n",
        "                                  epochs=70,\n",
        "                                  validation_data=validG,\n",
        "                                  validation_steps=steps_validate,\n",
        "                                  verbose=1,\n",
        "                                  shuffle = 1)"
      ],
      "metadata": {
        "colab": {
          "base_uri": "https://localhost:8080/"
        },
        "id": "z8Lk03zNkPk-",
        "outputId": "89717e5a-9ffd-44e6-c95e-5c7a376bbf42"
      },
      "execution_count": 28,
      "outputs": [
        {
          "output_type": "stream",
          "name": "stderr",
          "text": [
            "/usr/local/lib/python3.7/dist-packages/ipykernel_launcher.py:7: UserWarning: `Model.fit_generator` is deprecated and will be removed in a future version. Please use `Model.fit`, which supports generators.\n",
            "  import sys\n"
          ]
        },
        {
          "output_type": "stream",
          "name": "stdout",
          "text": [
            "Epoch 1/70\n",
            "62/62 [==============================] - 29s 464ms/step - loss: 3.9059 - accuracy: 0.0737 - val_loss: 2.7903 - val_accuracy: 0.3102\n",
            "Epoch 2/70\n",
            "62/62 [==============================] - 21s 335ms/step - loss: 3.3153 - accuracy: 0.1128 - val_loss: 2.3591 - val_accuracy: 0.4120\n",
            "Epoch 3/70\n",
            "62/62 [==============================] - 20s 318ms/step - loss: 3.1728 - accuracy: 0.1519 - val_loss: 1.9427 - val_accuracy: 0.5093\n",
            "Epoch 4/70\n",
            "62/62 [==============================] - 20s 316ms/step - loss: 3.0519 - accuracy: 0.1697 - val_loss: 1.6354 - val_accuracy: 0.7083\n",
            "Epoch 5/70\n",
            "62/62 [==============================] - 20s 328ms/step - loss: 2.9248 - accuracy: 0.2053 - val_loss: 1.5879 - val_accuracy: 0.6435\n",
            "Epoch 6/70\n",
            "62/62 [==============================] - 20s 327ms/step - loss: 2.8588 - accuracy: 0.2068 - val_loss: 1.6580 - val_accuracy: 0.6019\n",
            "Epoch 7/70\n",
            "62/62 [==============================] - 21s 331ms/step - loss: 2.7710 - accuracy: 0.2337 - val_loss: 1.4518 - val_accuracy: 0.6204\n",
            "Epoch 8/70\n",
            "62/62 [==============================] - 20s 316ms/step - loss: 2.6822 - accuracy: 0.2571 - val_loss: 1.5054 - val_accuracy: 0.6296\n",
            "Epoch 9/70\n",
            "62/62 [==============================] - 20s 316ms/step - loss: 2.6301 - accuracy: 0.2729 - val_loss: 1.1916 - val_accuracy: 0.7037\n",
            "Epoch 10/70\n",
            "62/62 [==============================] - 22s 348ms/step - loss: 2.5513 - accuracy: 0.2881 - val_loss: 1.3349 - val_accuracy: 0.6250\n",
            "Epoch 11/70\n",
            "62/62 [==============================] - 20s 322ms/step - loss: 2.4890 - accuracy: 0.3003 - val_loss: 1.3774 - val_accuracy: 0.6204\n",
            "Epoch 12/70\n",
            "62/62 [==============================] - 20s 321ms/step - loss: 2.4224 - accuracy: 0.3155 - val_loss: 1.1862 - val_accuracy: 0.6898\n",
            "Epoch 13/70\n",
            "62/62 [==============================] - 20s 324ms/step - loss: 2.4206 - accuracy: 0.3064 - val_loss: 1.0475 - val_accuracy: 0.7407\n",
            "Epoch 14/70\n",
            "62/62 [==============================] - 20s 322ms/step - loss: 2.2970 - accuracy: 0.3422 - val_loss: 1.1387 - val_accuracy: 0.7269\n",
            "Epoch 15/70\n",
            "62/62 [==============================] - 20s 322ms/step - loss: 2.2763 - accuracy: 0.3465 - val_loss: 1.1037 - val_accuracy: 0.7593\n",
            "Epoch 16/70\n",
            "62/62 [==============================] - 20s 322ms/step - loss: 2.1965 - accuracy: 0.3694 - val_loss: 1.0930 - val_accuracy: 0.6852\n",
            "Epoch 17/70\n",
            "62/62 [==============================] - 21s 342ms/step - loss: 2.1119 - accuracy: 0.3725 - val_loss: 1.1253 - val_accuracy: 0.6898\n",
            "Epoch 18/70\n",
            "62/62 [==============================] - 20s 316ms/step - loss: 2.0704 - accuracy: 0.4029 - val_loss: 1.1564 - val_accuracy: 0.6435\n",
            "Epoch 19/70\n",
            "62/62 [==============================] - 20s 322ms/step - loss: 1.9900 - accuracy: 0.4080 - val_loss: 1.0952 - val_accuracy: 0.6481\n",
            "Epoch 20/70\n",
            "62/62 [==============================] - 21s 331ms/step - loss: 2.0469 - accuracy: 0.4126 - val_loss: 0.8538 - val_accuracy: 0.7731\n",
            "Epoch 21/70\n",
            "62/62 [==============================] - 20s 327ms/step - loss: 1.8881 - accuracy: 0.4431 - val_loss: 0.9182 - val_accuracy: 0.7685\n",
            "Epoch 22/70\n",
            "62/62 [==============================] - 20s 320ms/step - loss: 1.8747 - accuracy: 0.4385 - val_loss: 1.0006 - val_accuracy: 0.7269\n",
            "Epoch 23/70\n",
            "62/62 [==============================] - 19s 308ms/step - loss: 1.8746 - accuracy: 0.4533 - val_loss: 1.0488 - val_accuracy: 0.7222\n",
            "Epoch 24/70\n",
            "62/62 [==============================] - 20s 320ms/step - loss: 1.7846 - accuracy: 0.4812 - val_loss: 0.8602 - val_accuracy: 0.7315\n",
            "Epoch 25/70\n",
            "62/62 [==============================] - 20s 315ms/step - loss: 1.7342 - accuracy: 0.4741 - val_loss: 0.8014 - val_accuracy: 0.7870\n",
            "Epoch 26/70\n",
            "62/62 [==============================] - 19s 313ms/step - loss: 1.6448 - accuracy: 0.5086 - val_loss: 0.8770 - val_accuracy: 0.7824\n",
            "Epoch 27/70\n",
            "62/62 [==============================] - 19s 313ms/step - loss: 1.6901 - accuracy: 0.5030 - val_loss: 0.9182 - val_accuracy: 0.7130\n",
            "Epoch 28/70\n",
            "62/62 [==============================] - 21s 339ms/step - loss: 1.6150 - accuracy: 0.5376 - val_loss: 0.8303 - val_accuracy: 0.7870\n",
            "Epoch 29/70\n",
            "62/62 [==============================] - 20s 314ms/step - loss: 1.6145 - accuracy: 0.5218 - val_loss: 0.7801 - val_accuracy: 0.7963\n",
            "Epoch 30/70\n",
            "62/62 [==============================] - 20s 323ms/step - loss: 1.5487 - accuracy: 0.5452 - val_loss: 0.6669 - val_accuracy: 0.8380\n",
            "Epoch 31/70\n",
            "62/62 [==============================] - 21s 342ms/step - loss: 1.5033 - accuracy: 0.5447 - val_loss: 0.7069 - val_accuracy: 0.7870\n",
            "Epoch 32/70\n",
            "62/62 [==============================] - 20s 330ms/step - loss: 1.4834 - accuracy: 0.5625 - val_loss: 0.6566 - val_accuracy: 0.8241\n",
            "Epoch 33/70\n",
            "62/62 [==============================] - 20s 327ms/step - loss: 1.4169 - accuracy: 0.5793 - val_loss: 0.7826 - val_accuracy: 0.7824\n",
            "Epoch 34/70\n",
            "62/62 [==============================] - 19s 313ms/step - loss: 1.4392 - accuracy: 0.5808 - val_loss: 0.8022 - val_accuracy: 0.7407\n",
            "Epoch 35/70\n",
            "62/62 [==============================] - 20s 314ms/step - loss: 1.4130 - accuracy: 0.5843 - val_loss: 0.7405 - val_accuracy: 0.7824\n",
            "Epoch 36/70\n",
            "62/62 [==============================] - 22s 349ms/step - loss: 1.3043 - accuracy: 0.6052 - val_loss: 0.7434 - val_accuracy: 0.7731\n",
            "Epoch 37/70\n",
            "62/62 [==============================] - 21s 334ms/step - loss: 1.2781 - accuracy: 0.6194 - val_loss: 0.6516 - val_accuracy: 0.8009\n",
            "Epoch 38/70\n",
            "62/62 [==============================] - 20s 325ms/step - loss: 1.3080 - accuracy: 0.6026 - val_loss: 0.6890 - val_accuracy: 0.8056\n",
            "Epoch 39/70\n",
            "62/62 [==============================] - 20s 324ms/step - loss: 1.2126 - accuracy: 0.6397 - val_loss: 0.6132 - val_accuracy: 0.8194\n",
            "Epoch 40/70\n",
            "62/62 [==============================] - 20s 318ms/step - loss: 1.1779 - accuracy: 0.6347 - val_loss: 0.6256 - val_accuracy: 0.8241\n",
            "Epoch 41/70\n",
            "62/62 [==============================] - 22s 350ms/step - loss: 1.2826 - accuracy: 0.6225 - val_loss: 0.6552 - val_accuracy: 0.8056\n",
            "Epoch 42/70\n",
            "62/62 [==============================] - 20s 320ms/step - loss: 1.2622 - accuracy: 0.6357 - val_loss: 0.6145 - val_accuracy: 0.8009\n",
            "Epoch 43/70\n",
            "62/62 [==============================] - 21s 331ms/step - loss: 1.0746 - accuracy: 0.6804 - val_loss: 0.6229 - val_accuracy: 0.8287\n",
            "Epoch 44/70\n",
            "62/62 [==============================] - 20s 321ms/step - loss: 1.0884 - accuracy: 0.6865 - val_loss: 1.0501 - val_accuracy: 0.6806\n",
            "Epoch 45/70\n",
            "62/62 [==============================] - 20s 317ms/step - loss: 1.1347 - accuracy: 0.6494 - val_loss: 0.5421 - val_accuracy: 0.8380\n",
            "Epoch 46/70\n",
            "62/62 [==============================] - 20s 319ms/step - loss: 1.0046 - accuracy: 0.7002 - val_loss: 0.5463 - val_accuracy: 0.8380\n",
            "Epoch 47/70\n",
            "62/62 [==============================] - 19s 307ms/step - loss: 1.0793 - accuracy: 0.6839 - val_loss: 0.5140 - val_accuracy: 0.8565\n",
            "Epoch 48/70\n",
            "62/62 [==============================] - 20s 325ms/step - loss: 1.0245 - accuracy: 0.6916 - val_loss: 0.5130 - val_accuracy: 0.8657\n",
            "Epoch 49/70\n",
            "62/62 [==============================] - 19s 311ms/step - loss: 1.0392 - accuracy: 0.6834 - val_loss: 0.5085 - val_accuracy: 0.8426\n",
            "Epoch 50/70\n",
            "62/62 [==============================] - 19s 310ms/step - loss: 1.0518 - accuracy: 0.6900 - val_loss: 0.8225 - val_accuracy: 0.7269\n",
            "Epoch 51/70\n",
            "62/62 [==============================] - 20s 317ms/step - loss: 0.9458 - accuracy: 0.7099 - val_loss: 0.4871 - val_accuracy: 0.8519\n",
            "Epoch 52/70\n",
            "62/62 [==============================] - 20s 317ms/step - loss: 0.9797 - accuracy: 0.7053 - val_loss: 0.5371 - val_accuracy: 0.8704\n",
            "Epoch 53/70\n",
            "62/62 [==============================] - 20s 316ms/step - loss: 1.0087 - accuracy: 0.6921 - val_loss: 0.5161 - val_accuracy: 0.8657\n",
            "Epoch 54/70\n",
            "62/62 [==============================] - 20s 329ms/step - loss: 0.8629 - accuracy: 0.7342 - val_loss: 0.4685 - val_accuracy: 0.8519\n",
            "Epoch 55/70\n",
            "62/62 [==============================] - 20s 317ms/step - loss: 0.9032 - accuracy: 0.7271 - val_loss: 0.4044 - val_accuracy: 0.8750\n",
            "Epoch 56/70\n",
            "62/62 [==============================] - 20s 319ms/step - loss: 0.9150 - accuracy: 0.7226 - val_loss: 0.5138 - val_accuracy: 0.8657\n",
            "Epoch 57/70\n",
            "62/62 [==============================] - 20s 327ms/step - loss: 0.8473 - accuracy: 0.7500 - val_loss: 0.5624 - val_accuracy: 0.8333\n",
            "Epoch 58/70\n",
            "62/62 [==============================] - 20s 323ms/step - loss: 0.8127 - accuracy: 0.7530 - val_loss: 0.4540 - val_accuracy: 0.8843\n",
            "Epoch 59/70\n",
            "62/62 [==============================] - 20s 328ms/step - loss: 0.8386 - accuracy: 0.7495 - val_loss: 0.5287 - val_accuracy: 0.8380\n",
            "Epoch 60/70\n",
            "62/62 [==============================] - 19s 310ms/step - loss: 0.7951 - accuracy: 0.7627 - val_loss: 0.4287 - val_accuracy: 0.8843\n",
            "Epoch 61/70\n",
            "62/62 [==============================] - 20s 314ms/step - loss: 0.7635 - accuracy: 0.7703 - val_loss: 0.8852 - val_accuracy: 0.7315\n",
            "Epoch 62/70\n",
            "62/62 [==============================] - 20s 318ms/step - loss: 0.7973 - accuracy: 0.7510 - val_loss: 0.4500 - val_accuracy: 0.8519\n",
            "Epoch 63/70\n",
            "62/62 [==============================] - 20s 323ms/step - loss: 0.7474 - accuracy: 0.7713 - val_loss: 0.6001 - val_accuracy: 0.8472\n",
            "Epoch 64/70\n",
            "62/62 [==============================] - 20s 321ms/step - loss: 0.8339 - accuracy: 0.7622 - val_loss: 0.4354 - val_accuracy: 0.8796\n",
            "Epoch 65/70\n",
            "62/62 [==============================] - 21s 332ms/step - loss: 0.7830 - accuracy: 0.7658 - val_loss: 0.5102 - val_accuracy: 0.8194\n",
            "Epoch 66/70\n",
            "62/62 [==============================] - 20s 317ms/step - loss: 0.7925 - accuracy: 0.7571 - val_loss: 0.5683 - val_accuracy: 0.8102\n",
            "Epoch 67/70\n",
            "62/62 [==============================] - 20s 315ms/step - loss: 0.7416 - accuracy: 0.7708 - val_loss: 0.4772 - val_accuracy: 0.8611\n",
            "Epoch 68/70\n",
            "62/62 [==============================] - 20s 318ms/step - loss: 0.7232 - accuracy: 0.7866 - val_loss: 0.4294 - val_accuracy: 0.8889\n",
            "Epoch 69/70\n",
            "62/62 [==============================] - 20s 315ms/step - loss: 0.6167 - accuracy: 0.8069 - val_loss: 0.3960 - val_accuracy: 0.8704\n",
            "Epoch 70/70\n",
            "62/62 [==============================] - 19s 312ms/step - loss: 0.6781 - accuracy: 0.7927 - val_loss: 0.4399 - val_accuracy: 0.8565\n"
          ]
        }
      ]
    },
    {
      "cell_type": "code",
      "source": [
        "plt.plot(history.history['val_loss'])\n",
        "plt.plot(history.history['loss'])\n",
        "\n",
        "plt.legend(['training_Loss','Val_Loss'])\n",
        "plt.title('Loss')\n",
        "plt.xlabel('epochs')"
      ],
      "metadata": {
        "colab": {
          "base_uri": "https://localhost:8080/",
          "height": 314
        },
        "id": "2PT2HG5_kSSm",
        "outputId": "a8350c19-3790-423e-e774-7c2bc8a8d426"
      },
      "execution_count": 29,
      "outputs": [
        {
          "output_type": "execute_result",
          "data": {
            "text/plain": [
              "Text(0.5, 0, 'epochs')"
            ]
          },
          "metadata": {},
          "execution_count": 29
        },
        {
          "output_type": "display_data",
          "data": {
            "text/plain": [
              "<Figure size 432x288 with 1 Axes>"
            ],
            "image/png": "[encoded data removed]"
          },
          "metadata": {
            "needs_background": "light"
          }
        }
      ]
    },
    {
      "cell_type": "code",
      "source": [
        "plt.plot(history.history['accuracy'])\n",
        "plt.plot(history.history['val_accuracy'])\n",
        "plt.legend(['training_accuracy','Val_accuracy'])\n",
        "plt.title('accuracy')\n",
        "plt.xlabel('epochs')"
      ],
      "metadata": {
        "colab": {
          "base_uri": "https://localhost:8080/",
          "height": 314
        },
        "id": "6jkYxnJ3kS7L",
        "outputId": "3e9684fc-dc47-4565-c2c2-d742cfd616f3"
      },
      "execution_count": 30,
      "outputs": [
        {
          "output_type": "execute_result",
          "data": {
            "text/plain": [
              "Text(0.5, 0, 'epochs')"
            ]
          },
          "metadata": {},
          "execution_count": 30
        },
        {
          "output_type": "display_data",
          "data": {
            "text/plain": [
              "<Figure size 432x288 with 1 Axes>"
            ],
            "image/png": "[encoded data removed]"
          },
          "metadata": {
            "needs_background": "light"
          }
        }
      ]
    },
    {
      "cell_type": "code",
      "source": [
        "test_loss, test_acc = model.evaluate(X_test,y_test, verbose=2)\n"
      ],
      "metadata": {
        "colab": {
          "base_uri": "https://localhost:8080/"
        },
        "id": "3vY5yr2ckUav",
        "outputId": "11d70c34-2af0-41a5-d656-9b06eebc2cb8"
      },
      "execution_count": 31,
      "outputs": [
        {
          "output_type": "stream",
          "name": "stdout",
          "text": [
            "8/8 - 0s - loss: 0.3496 - accuracy: 0.8947 - 256ms/epoch - 32ms/step\n"
          ]
        }
      ]
    }
  ]
}