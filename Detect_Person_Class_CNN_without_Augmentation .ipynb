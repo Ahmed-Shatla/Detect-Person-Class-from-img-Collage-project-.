{
  "nbformat": 4,
  "nbformat_minor": 0,
  "metadata": {
    "colab": {
      "name": "Detect-Person-Class(Collage project).ipynb",
      "provenance": [],
      "include_colab_link": true
    },
    "kernelspec": {
      "name": "python3",
      "display_name": "Python 3"
    },
    "language_info": {
      "name": "python"
    },
    "accelerator": "TPU"
  },
  "cells": [
    {
      "cell_type": "markdown",
      "metadata": {
        "id": "view-in-github",
        "colab_type": "text"
      },
      "source": [
        "<a href=\"https://colab.research.google.com/github/Ahmed-Shatla/Detect-Person-Class-from-img-Collage-project-./blob/main/Detect_Person_Class_CNN_without_Augmentation%20.ipynb\" target=\"_parent\"><img src=\"https://colab.research.google.com/assets/colab-badge.svg\" alt=\"Open In Colab\"/></a>"
      ]
    },
    {
      "cell_type": "markdown",
      "source": [
        "#needed libraries"
      ],
      "metadata": {
        "id": "Ft8yVwkjtvBP"
      }
    },
    {
      "cell_type": "code",
      "execution_count": 1,
      "metadata": {
        "id": "SeVSZpwSp0tm"
      },
      "outputs": [],
      "source": [
        "import numpy as np\n",
        "import pandas as pd\n",
        "import os\n",
        "import random \n",
        "import matplotlib.pyplot as plt\n",
        "import seaborn as sns\n",
        "from sklearn.model_selection import train_test_split\n",
        "import cv2\n"
      ]
    },
    {
      "cell_type": "markdown",
      "source": [
        "#data path and number of classes"
      ],
      "metadata": {
        "id": "d6oCkM9ht3ga"
      }
    },
    {
      "cell_type": "code",
      "source": [
        "from google.colab import drive\n",
        "drive.mount('/content/drive')"
      ],
      "metadata": {
        "colab": {
          "base_uri": "https://localhost:8080/"
        },
        "id": "3XDlXCsviZg6",
        "outputId": "720fa391-a3e2-482c-88d2-622d92976ce7"
      },
      "execution_count": 2,
      "outputs": [
        {
          "output_type": "stream",
          "name": "stdout",
          "text": [
            "Drive already mounted at /content/drive; to attempt to forcibly remount, call drive.mount(\"/content/drive\", force_remount=True).\n"
          ]
        }
      ]
    },
    {
      "cell_type": "code",
      "source": [
        "data_path = '/content/drive/MyDrive/Faces data/CroppedYale'\n",
        "len(os.listdir(data_path))"
      ],
      "metadata": {
        "colab": {
          "base_uri": "https://localhost:8080/"
        },
        "id": "xMzMIIXXkmBz",
        "outputId": "54ec90e1-0c63-4a0d-9850-46e7cb16e55e"
      },
      "execution_count": 3,
      "outputs": [
        {
          "output_type": "execute_result",
          "data": {
            "text/plain": [
              "38"
            ]
          },
          "metadata": {},
          "execution_count": 3
        }
      ]
    },
    {
      "cell_type": "markdown",
      "source": [
        "#Create lists that contain images and its labels"
      ],
      "metadata": {
        "id": "p-TUQbFbt8GB"
      }
    },
    {
      "cell_type": "code",
      "source": [
        "def read_img(path):\n",
        "  files_names = os.listdir(path) \n",
        "  imgs = []\n",
        "  target = []\n",
        "  for i in files_names:\n",
        "    for j in os.listdir(path+'/'+i):\n",
        "      if '.pgm' in j:\n",
        "        img = cv2.imread(path+'/'+i+'/'+j)\n",
        "        imgs.append(img)\n",
        "        target.append(i)\n",
        "  return imgs,target"
      ],
      "metadata": {
        "id": "kgwGEU0qqgeu"
      },
      "execution_count": 4,
      "outputs": []
    },
    {
      "cell_type": "markdown",
      "source": [
        "#X ==> Images\n",
        "#y ==> labels"
      ],
      "metadata": {
        "id": "vyeaVt623EBX"
      }
    },
    {
      "cell_type": "code",
      "source": [
        "from sklearn.model_selection import train_test_split\n",
        "X,y = read_img(data_path)\n"
      ],
      "metadata": {
        "id": "gSowRGo1rxpI"
      },
      "execution_count": 5,
      "outputs": []
    },
    {
      "cell_type": "code",
      "source": [
        "X = np.array(X)\n",
        "y = np.array(y).reshape(-1,1)"
      ],
      "metadata": {
        "id": "bo9HuY_1-F5_",
        "colab": {
          "base_uri": "https://localhost:8080/"
        },
        "outputId": "cc177014-8235-47ed-879d-0b7e21148056"
      },
      "execution_count": 6,
      "outputs": [
        {
          "output_type": "stream",
          "name": "stderr",
          "text": [
            "/usr/local/lib/python3.7/dist-packages/ipykernel_launcher.py:1: VisibleDeprecationWarning: Creating an ndarray from ragged nested sequences (which is a list-or-tuple of lists-or-tuples-or ndarrays with different lengths or shapes) is deprecated. If you meant to do this, you must specify 'dtype=object' when creating the ndarray.\n",
            "  \"\"\"Entry point for launching an IPython kernel.\n"
          ]
        }
      ]
    },
    {
      "cell_type": "markdown",
      "source": [
        "#all images size = (192,168)"
      ],
      "metadata": {
        "id": "atIEwIyM3JxH"
      }
    },
    {
      "cell_type": "code",
      "source": [
        "def resize_images(images):\n",
        "  imgs = []\n",
        "  images1 = np.asarray(images)\n",
        "  for i in images1:\n",
        "    img = cv2.resize(i,(168, 192))\n",
        "    imgs.append(img)\n",
        "\n",
        "  return imgs"
      ],
      "metadata": {
        "id": "_pdCBxJQ0R1L"
      },
      "execution_count": 7,
      "outputs": []
    },
    {
      "cell_type": "code",
      "source": [
        "images = resize_images(X)\n",
        "images[1].shape"
      ],
      "metadata": {
        "id": "h4HCjx662pVe",
        "colab": {
          "base_uri": "https://localhost:8080/"
        },
        "outputId": "57f30828-eeb8-4544-c8fb-1d2f43b88b20"
      },
      "execution_count": 8,
      "outputs": [
        {
          "output_type": "execute_result",
          "data": {
            "text/plain": [
              "(192, 168, 3)"
            ]
          },
          "metadata": {},
          "execution_count": 8
        }
      ]
    },
    {
      "cell_type": "code",
      "source": [
        "plt.imshow(X[20])"
      ],
      "metadata": {
        "id": "K5dlsFszr0n9",
        "outputId": "d87257c3-0143-4e88-ee90-ffb4652bfb0f",
        "colab": {
          "base_uri": "https://localhost:8080/",
          "height": 286
        }
      },
      "execution_count": 9,
      "outputs": [
        {
          "output_type": "execute_result",
          "data": {
            "text/plain": [
              "<matplotlib.image.AxesImage at 0x7f9efcbca890>"
            ]
          },
          "metadata": {},
          "execution_count": 9
        },
        {
          "output_type": "display_data",
          "data": {
            "text/plain": [
              "<Figure size 432x288 with 1 Axes>"
            ],
            "image/png": "[encoded data removed]"
          },
          "metadata": {
            "needs_background": "light"
          }
        }
      ]
    },
    {
      "cell_type": "markdown",
      "source": [
        "#Splitting data to 90% train and 10% test"
      ],
      "metadata": {
        "id": "vzL1wH_-uSeN"
      }
    },
    {
      "cell_type": "code",
      "source": [
        "X_train, X_test, y_train, y_test =train_test_split(images,y,test_size=0.1,shuffle=True,random_state=1)\n",
        "X_train = np.array(X_train)\n",
        "X_test = np.array(X_test)\n",
        "y_train = np.array(y_train)\n",
        "y_test = np.array(y_test)"
      ],
      "metadata": {
        "id": "7TRALN1Y-xqx"
      },
      "execution_count": 10,
      "outputs": []
    },
    {
      "cell_type": "code",
      "source": [
        "X_train.shape"
      ],
      "metadata": {
        "colab": {
          "base_uri": "https://localhost:8080/"
        },
        "id": "329J4QUfDJoo",
        "outputId": "fdefcd4a-399c-48bf-8e1f-db58704f2854"
      },
      "execution_count": 11,
      "outputs": [
        {
          "output_type": "execute_result",
          "data": {
            "text/plain": [
              "(2223, 192, 168, 3)"
            ]
          },
          "metadata": {},
          "execution_count": 11
        }
      ]
    },
    {
      "cell_type": "code",
      "source": [
        "y_train"
      ],
      "metadata": {
        "colab": {
          "base_uri": "https://localhost:8080/"
        },
        "id": "C4itmT8E_q8T",
        "outputId": "383ac8d8-64db-44e8-9957-768ecfcc1a00"
      },
      "execution_count": 12,
      "outputs": [
        {
          "output_type": "execute_result",
          "data": {
            "text/plain": [
              "array([['yaleB13'],\n",
              "       ['yaleB10'],\n",
              "       ['yaleB12'],\n",
              "       ...,\n",
              "       ['yaleB12'],\n",
              "       ['yaleB08'],\n",
              "       ['yaleB12']], dtype='<U7')"
            ]
          },
          "metadata": {},
          "execution_count": 12
        }
      ]
    },
    {
      "cell_type": "markdown",
      "source": [
        "#CNN Model 1 ( without augmentation)"
      ],
      "metadata": {
        "id": "mWyzivh05pTu"
      }
    },
    {
      "cell_type": "code",
      "source": [
        "from tensorflow.keras import Sequential\n",
        "from tensorflow.keras.layers import Dense,Conv2D,Dropout,Activation,MaxPool2D,Flatten"
      ],
      "metadata": {
        "id": "1STtNY4i4jyx"
      },
      "execution_count": 13,
      "outputs": []
    },
    {
      "cell_type": "code",
      "source": [
        "model=Sequential()\n",
        "model.add(Conv2D(filters=16,kernel_size=(3,3),activation='relu',input_shape=(192,168,3)))\n",
        "model.add(MaxPool2D((2,2)))\n",
        "\n",
        "model.add(Conv2D(32,(3,3),activation='relu'))\n",
        "model.add(MaxPool2D((2,2)))\n",
        "\n",
        "model.add(Flatten())\n",
        "\n",
        "model.add(Dense(64,activation='relu'))\n",
        "\n",
        "model.add(Dense(units=38,activation='softmax'))\n",
        "\n",
        "model.summary()"
      ],
      "metadata": {
        "id": "q0NQ7gwW63Nh",
        "outputId": "37ddd224-1a63-4b24-fb02-109a5025e284",
        "colab": {
          "base_uri": "https://localhost:8080/"
        }
      },
      "execution_count": 14,
      "outputs": [
        {
          "output_type": "stream",
          "name": "stdout",
          "text": [
            "Model: \"sequential\"\n",
            "_________________________________________________________________\n",
            " Layer (type)                Output Shape              Param #   \n",
            "=================================================================\n",
            " conv2d (Conv2D)             (None, 190, 166, 16)      448       \n",
            "                                                                 \n",
            " max_pooling2d (MaxPooling2D  (None, 95, 83, 16)       0         \n",
            " )                                                               \n",
            "                                                                 \n",
            " conv2d_1 (Conv2D)           (None, 93, 81, 32)        4640      \n",
            "                                                                 \n",
            " max_pooling2d_1 (MaxPooling  (None, 46, 40, 32)       0         \n",
            " 2D)                                                             \n",
            "                                                                 \n",
            " flatten (Flatten)           (None, 58880)             0         \n",
            "                                                                 \n",
            " dense (Dense)               (None, 64)                3768384   \n",
            "                                                                 \n",
            " dense_1 (Dense)             (None, 38)                2470      \n",
            "                                                                 \n",
            "=================================================================\n",
            "Total params: 3,775,942\n",
            "Trainable params: 3,775,942\n",
            "Non-trainable params: 0\n",
            "_________________________________________________________________\n"
          ]
        }
      ]
    },
    {
      "cell_type": "code",
      "source": [
        "model.compile(optimizer='rmsprop',loss='categorical_crossentropy',metrics=['accuracy'])"
      ],
      "metadata": {
        "id": "Nboo0snF7UIn"
      },
      "execution_count": 15,
      "outputs": []
    },
    {
      "cell_type": "code",
      "source": [
        "from tensorflow.keras.preprocessing.image import ImageDataGenerator"
      ],
      "metadata": {
        "id": "4l38XWZi9u8G"
      },
      "execution_count": 16,
      "outputs": []
    },
    {
      "cell_type": "code",
      "source": [
        "from sklearn.preprocessing import LabelEncoder\n",
        "lb = LabelEncoder()\n",
        "y_train = lb.fit_transform(y_train)\n",
        "y_test = lb.fit_transform(y_test)"
      ],
      "metadata": {
        "colab": {
          "base_uri": "https://localhost:8080/"
        },
        "id": "qkou_qhzTT9D",
        "outputId": "7175bb9a-38da-4acf-fa64-5b42b0e98137"
      },
      "execution_count": 17,
      "outputs": [
        {
          "output_type": "stream",
          "name": "stderr",
          "text": [
            "/usr/local/lib/python3.7/dist-packages/sklearn/preprocessing/_label.py:115: DataConversionWarning: A column-vector y was passed when a 1d array was expected. Please change the shape of y to (n_samples, ), for example using ravel().\n",
            "  y = column_or_1d(y, warn=True)\n"
          ]
        }
      ]
    },
    {
      "cell_type": "code",
      "source": [
        "from tensorflow.keras.utils import to_categorical\n",
        "y_train = to_categorical(y_train)\n",
        "y_test = to_categorical(y_test)\n",
        "\n",
        "y_test.shape"
      ],
      "metadata": {
        "colab": {
          "base_uri": "https://localhost:8080/"
        },
        "id": "I6JXTdbzUaTs",
        "outputId": "d73e246a-7f70-4cdf-f06b-85a3a5b64b41"
      },
      "execution_count": 18,
      "outputs": [
        {
          "output_type": "execute_result",
          "data": {
            "text/plain": [
              "(247, 38)"
            ]
          },
          "metadata": {},
          "execution_count": 18
        }
      ]
    },
    {
      "cell_type": "code",
      "source": [
        "X_train.shape"
      ],
      "metadata": {
        "colab": {
          "base_uri": "https://localhost:8080/"
        },
        "id": "AtI0W68qGWk4",
        "outputId": "abc2a0c9-8766-4de7-b038-6fd76a71c73b"
      },
      "execution_count": 19,
      "outputs": [
        {
          "output_type": "execute_result",
          "data": {
            "text/plain": [
              "(2223, 192, 168, 3)"
            ]
          },
          "metadata": {},
          "execution_count": 19
        }
      ]
    },
    {
      "cell_type": "code",
      "source": [
        "train_gen = ImageDataGenerator()\n",
        "valid_gen = ImageDataGenerator()"
      ],
      "metadata": {
        "id": "OEQw3t-F-TkP"
      },
      "execution_count": 20,
      "outputs": []
    },
    {
      "cell_type": "code",
      "source": [
        "X_train, X_valid, y_train, y_valid =train_test_split(X_train,y_train,test_size=0.1,shuffle=True,random_state=1)\n",
        "X_valid.shape"
      ],
      "metadata": {
        "id": "vSw0BpJNQ-t7",
        "colab": {
          "base_uri": "https://localhost:8080/"
        },
        "outputId": "5ddec459-fdac-4de9-c0df-cbe54d7346af"
      },
      "execution_count": 21,
      "outputs": [
        {
          "output_type": "execute_result",
          "data": {
            "text/plain": [
              "(223, 192, 168, 3)"
            ]
          },
          "metadata": {},
          "execution_count": 21
        }
      ]
    },
    {
      "cell_type": "code",
      "source": [
        "trainG = train_gen.flow(X_train,y_train,batch_size=32)\n",
        "validG = valid_gen.flow(X_valid,y_valid,batch_size=16)"
      ],
      "metadata": {
        "id": "T1Gbhk5jJe03"
      },
      "execution_count": 22,
      "outputs": []
    },
    {
      "cell_type": "code",
      "source": [
        "steps_train = int(len(X_train)/32)\n",
        "steps_validate = int(len(X_valid)/16)"
      ],
      "metadata": {
        "id": "RnlJ540jyFNo"
      },
      "execution_count": 23,
      "outputs": []
    },
    {
      "cell_type": "code",
      "source": [
        "history = model.fit_generator(trainG,\n",
        "                                  steps_per_epoch=steps_train, \n",
        "                                  epochs=16,\n",
        "                                  validation_data=validG,\n",
        "                                  validation_steps=steps_validate,\n",
        "                                  verbose=1,\n",
        "                                  shuffle = 1)"
      ],
      "metadata": {
        "id": "Y3f4-b_o-b2r",
        "outputId": "d7b97974-9c3e-455b-b0cd-8feea962a29e",
        "colab": {
          "base_uri": "https://localhost:8080/"
        }
      },
      "execution_count": 24,
      "outputs": [
        {
          "output_type": "stream",
          "name": "stdout",
          "text": [
            "Epoch 1/16\n"
          ]
        },
        {
          "output_type": "stream",
          "name": "stderr",
          "text": [
            "/usr/local/lib/python3.7/dist-packages/ipykernel_launcher.py:7: UserWarning: `Model.fit_generator` is deprecated and will be removed in a future version. Please use `Model.fit`, which supports generators.\n",
            "  import sys\n"
          ]
        },
        {
          "output_type": "stream",
          "name": "stdout",
          "text": [
            "62/62 [==============================] - 46s 725ms/step - loss: 41.8647 - accuracy: 0.3242 - val_loss: 1.2437 - val_accuracy: 0.6971\n",
            "Epoch 2/16\n",
            "62/62 [==============================] - 45s 722ms/step - loss: 0.9457 - accuracy: 0.8272 - val_loss: 0.4908 - val_accuracy: 0.8894\n",
            "Epoch 3/16\n",
            "62/62 [==============================] - 46s 734ms/step - loss: 0.2004 - accuracy: 0.9680 - val_loss: 0.2979 - val_accuracy: 0.9327\n",
            "Epoch 4/16\n",
            "62/62 [==============================] - 44s 704ms/step - loss: 0.1503 - accuracy: 0.9776 - val_loss: 0.4728 - val_accuracy: 0.8894\n",
            "Epoch 5/16\n",
            "62/62 [==============================] - 44s 706ms/step - loss: 0.7716 - accuracy: 0.9629 - val_loss: 0.3516 - val_accuracy: 0.9471\n",
            "Epoch 6/16\n",
            "62/62 [==============================] - 44s 715ms/step - loss: 0.7714 - accuracy: 0.9624 - val_loss: 3.1460 - val_accuracy: 0.6923\n",
            "Epoch 7/16\n",
            "62/62 [==============================] - 44s 709ms/step - loss: 0.1235 - accuracy: 0.9878 - val_loss: 0.2797 - val_accuracy: 0.9615\n",
            "Epoch 8/16\n",
            "62/62 [==============================] - 47s 764ms/step - loss: 0.4737 - accuracy: 0.9705 - val_loss: 0.2669 - val_accuracy: 0.9375\n",
            "Epoch 9/16\n",
            "62/62 [==============================] - 46s 749ms/step - loss: 2.0332 - accuracy: 0.9609 - val_loss: 0.5629 - val_accuracy: 0.9375\n",
            "Epoch 10/16\n",
            "62/62 [==============================] - 44s 717ms/step - loss: 0.2500 - accuracy: 0.9842 - val_loss: 0.5410 - val_accuracy: 0.9327\n",
            "Epoch 11/16\n",
            "62/62 [==============================] - 44s 716ms/step - loss: 1.6640 - accuracy: 0.9573 - val_loss: 0.5575 - val_accuracy: 0.9423\n",
            "Epoch 12/16\n",
            "62/62 [==============================] - 45s 718ms/step - loss: 0.0478 - accuracy: 0.9944 - val_loss: 0.5424 - val_accuracy: 0.9279\n",
            "Epoch 13/16\n",
            "62/62 [==============================] - 44s 714ms/step - loss: 0.1758 - accuracy: 0.9837 - val_loss: 0.5625 - val_accuracy: 0.9375\n",
            "Epoch 14/16\n",
            "62/62 [==============================] - 44s 713ms/step - loss: 0.1371 - accuracy: 0.9883 - val_loss: 0.4549 - val_accuracy: 0.9519\n",
            "Epoch 15/16\n",
            "62/62 [==============================] - 44s 712ms/step - loss: 0.0106 - accuracy: 0.9980 - val_loss: 0.7092 - val_accuracy: 0.9327\n",
            "Epoch 16/16\n",
            "62/62 [==============================] - 44s 713ms/step - loss: 0.1793 - accuracy: 0.9853 - val_loss: 0.6155 - val_accuracy: 0.9519\n"
          ]
        }
      ]
    },
    {
      "cell_type": "code",
      "source": [
        "test_loss, test_acc = model.evaluate(X_test,y_test, verbose=2)\n",
        "print(\"test accurecy without augmentation\")\n",
        "print(test_acc)"
      ],
      "metadata": {
        "colab": {
          "base_uri": "https://localhost:8080/"
        },
        "id": "AQeDM5yg9iMD",
        "outputId": "896c366a-0bc6-4982-9bab-ad4ada82f256"
      },
      "execution_count": 25,
      "outputs": [
        {
          "output_type": "stream",
          "name": "stdout",
          "text": [
            "8/8 - 2s - loss: 0.2701 - accuracy: 0.9393 - 2s/epoch - 210ms/step\n",
            "test accurecy without augmentation\n",
            "0.9392712712287903\n"
          ]
        }
      ]
    },
    {
      "cell_type": "code",
      "source": [
        "plt.plot(history.history['loss'])\n",
        "plt.plot(history.history['val_loss'])\n",
        "plt.legend(['training_Loss','Val_Loss'])\n",
        "plt.title('Loss')\n",
        "plt.xlabel('epochs')"
      ],
      "metadata": {
        "id": "ZI-oBfcKMs0X",
        "colab": {
          "base_uri": "https://localhost:8080/",
          "height": 312
        },
        "outputId": "d8aef693-0293-4189-80a4-d73fdfe01626"
      },
      "execution_count": 26,
      "outputs": [
        {
          "output_type": "execute_result",
          "data": {
            "text/plain": [
              "Text(0.5, 0, 'epochs')"
            ]
          },
          "metadata": {},
          "execution_count": 26
        },
        {
          "output_type": "display_data",
          "data": {
            "text/plain": [
              "<Figure size 432x288 with 1 Axes>"
            ],
            "image/png": "[encoded data removed]"
          },
          "metadata": {
            "needs_background": "light"
          }
        }
      ]
    },
    {
      "cell_type": "code",
      "source": [
        "plt.plot(history.history['accuracy'])\n",
        "plt.plot(history.history['val_accuracy'])\n",
        "plt.legend(['training_accuracy','Val_accuracy'])\n",
        "plt.title('accuracy')\n",
        "plt.xlabel('epochs')"
      ],
      "metadata": {
        "colab": {
          "base_uri": "https://localhost:8080/",
          "height": 312
        },
        "id": "9yKdqWfyNMg6",
        "outputId": "9366836a-1c28-4573-aeeb-2c04f2ebd3d9"
      },
      "execution_count": 27,
      "outputs": [
        {
          "output_type": "execute_result",
          "data": {
            "text/plain": [
              "Text(0.5, 0, 'epochs')"
            ]
          },
          "metadata": {},
          "execution_count": 27
        },
        {
          "output_type": "display_data",
          "data": {
            "text/plain": [
              "<Figure size 432x288 with 1 Axes>"
            ],
            "image/png": "[encoded data removed]"
          },
          "metadata": {
            "needs_background": "light"
          }
        }
      ]
    },
    {
      "cell_type": "code",
      "source": [
        "train_gen_augmanted = ImageDataGenerator(rotation_range=30,\n",
        "                                         zoom_range=0.15,\n",
        "                                         width_shift_range=0.2,\n",
        "                                         height_shift_range=0.2,\n",
        "                                         horizontal_flip=True)\n",
        "trainGaug = train_gen_augmanted.flow(X_train,y_train,batch_size=32)\n"
      ],
      "metadata": {
        "id": "gO761ApmuItD"
      },
      "execution_count": 35,
      "outputs": []
    },
    {
      "cell_type": "code",
      "source": [
        "history = model.fit_generator(trainGaug,\n",
        "                                  steps_per_epoch=steps_train, \n",
        "                                  epochs=16,\n",
        "                                  validation_data=validG,\n",
        "                                  validation_steps=steps_validate,\n",
        "                                  verbose=1,\n",
        "                                  shuffle = 1)"
      ],
      "metadata": {
        "colab": {
          "base_uri": "https://localhost:8080/"
        },
        "id": "y1mSbuxzwBEp",
        "outputId": "a9dc3b44-ddcf-49e1-d413-a8de30f24520"
      },
      "execution_count": null,
      "outputs": [
        {
          "output_type": "stream",
          "name": "stderr",
          "text": [
            "/usr/local/lib/python3.7/dist-packages/ipykernel_launcher.py:7: UserWarning: `Model.fit_generator` is deprecated and will be removed in a future version. Please use `Model.fit`, which supports generators.\n",
            "  import sys\n"
          ]
        },
        {
          "output_type": "stream",
          "name": "stdout",
          "text": [
            "Epoch 1/16\n",
            "62/62 [==============================] - 56s 904ms/step - loss: 3.2431 - accuracy: 0.1357 - val_loss: 2.4752 - val_accuracy: 0.3173\n",
            "Epoch 2/16\n",
            "62/62 [==============================] - 58s 930ms/step - loss: 3.9901 - accuracy: 0.1458 - val_loss: 2.2837 - val_accuracy: 0.3413\n",
            "Epoch 3/16\n",
            "62/62 [==============================] - 57s 917ms/step - loss: 3.1400 - accuracy: 0.1413 - val_loss: 2.4114 - val_accuracy: 0.3269\n",
            "Epoch 4/16\n",
            "62/62 [==============================] - 57s 920ms/step - loss: 3.0863 - accuracy: 0.1590 - val_loss: 2.3205 - val_accuracy: 0.3221\n",
            "Epoch 5/16\n",
            "62/62 [==============================] - 57s 909ms/step - loss: 3.1185 - accuracy: 0.1667 - val_loss: 2.2524 - val_accuracy: 0.3413\n",
            "Epoch 6/16\n",
            "62/62 [==============================] - 56s 906ms/step - loss: 3.0777 - accuracy: 0.1509 - val_loss: 2.3845 - val_accuracy: 0.3125\n",
            "Epoch 7/16\n",
            "62/62 [==============================] - 56s 905ms/step - loss: 3.0631 - accuracy: 0.1651 - val_loss: 2.3937 - val_accuracy: 0.3365\n",
            "Epoch 8/16\n",
            "62/62 [==============================] - 56s 901ms/step - loss: 3.0117 - accuracy: 0.1651 - val_loss: 2.3425 - val_accuracy: 0.3413\n",
            "Epoch 9/16\n",
            "62/62 [==============================] - 56s 904ms/step - loss: 2.9825 - accuracy: 0.1596 - val_loss: 2.4549 - val_accuracy: 0.3510\n",
            "Epoch 10/16\n",
            "62/62 [==============================] - 56s 900ms/step - loss: 2.9553 - accuracy: 0.1885 - val_loss: 2.3055 - val_accuracy: 0.3702\n",
            "Epoch 11/16\n",
            "62/62 [==============================] - 57s 915ms/step - loss: 2.9352 - accuracy: 0.1875 - val_loss: 2.2481 - val_accuracy: 0.3846\n"
          ]
        }
      ]
    },
    {
      "cell_type": "code",
      "source": [
        "test_loss, test_acc = model.evaluate(X_test,y_test, verbose=2)\n",
        "print(\"test accurecy with augmentation\")\n",
        "print(test_acc)"
      ],
      "metadata": {
        "id": "b2oYLZCF8JNz"
      },
      "execution_count": null,
      "outputs": []
    },
    {
      "cell_type": "code",
      "source": [
        "plt.plot(history.history['val_loss'])\n",
        "plt.plot(history.history['loss'])\n",
        "\n",
        "plt.legend(['training_Loss','Val_Loss'])\n",
        "plt.title('Loss')\n",
        "plt.xlabel('epochs')"
      ],
      "metadata": {
        "id": "btAaGiRawhGs"
      },
      "execution_count": null,
      "outputs": []
    },
    {
      "cell_type": "code",
      "source": [
        "plt.plot(history.history['accuracy'])\n",
        "plt.plot(history.history['val_accuracy'])\n",
        "plt.legend(['training_accuracy','Val_accuracy'])\n",
        "plt.title('accuracy')\n",
        "plt.xlabel('epochs')"
      ],
      "metadata": {
        "id": "gaEJ9V-X3Po-"
      },
      "execution_count": null,
      "outputs": []
    }
  ]
}