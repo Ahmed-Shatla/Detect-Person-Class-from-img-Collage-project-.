{
  "nbformat": 4,
  "nbformat_minor": 0,
  "metadata": {
    "colab": {
      "name": "Detect-Person-Class(Collage project).ipynb",
      "provenance": [],
      "include_colab_link": true
    },
    "kernelspec": {
      "name": "python3",
      "display_name": "Python 3"
    },
    "language_info": {
      "name": "python"
    },
    "accelerator": "TPU"
  },
  "cells": [
    {
      "cell_type": "markdown",
      "metadata": {
        "id": "view-in-github",
        "colab_type": "text"
      },
      "source": [
        "<a href=\"https://colab.research.google.com/github/Ahmed-Shatla/Detect-Person-Class-from-img-Collage-project-./blob/main/Detect_Person_Class_CNN_without_Augmentation%20.ipynb\" target=\"_parent\"><img src=\"https://colab.research.google.com/assets/colab-badge.svg\" alt=\"Open In Colab\"/></a>"
      ]
    },
    {
      "cell_type": "markdown",
      "source": [
        "#needed libraries"
      ],
      "metadata": {
        "id": "Ft8yVwkjtvBP"
      }
    },
    {
      "cell_type": "code",
      "execution_count": 1,
      "metadata": {
        "id": "SeVSZpwSp0tm"
      },
      "outputs": [],
      "source": [
        "import numpy as np\n",
        "import pandas as pd\n",
        "import os\n",
        "import random \n",
        "import matplotlib.pyplot as plt\n",
        "import seaborn as sns\n",
        "from sklearn.model_selection import train_test_split\n",
        "import cv2\n"
      ]
    },
    {
      "cell_type": "markdown",
      "source": [
        "#data path and number of classes"
      ],
      "metadata": {
        "id": "d6oCkM9ht3ga"
      }
    },
    {
      "cell_type": "code",
      "source": [
        "data_path = '/content/drive/MyDrive/Faces data/CroppedYale'\n",
        "len(os.listdir(data_path))"
      ],
      "metadata": {
        "colab": {
          "base_uri": "https://localhost:8080/"
        },
        "id": "xMzMIIXXkmBz",
        "outputId": "890b3565-8682-4518-98d7-91ac5d4f29a3"
      },
      "execution_count": 5,
      "outputs": [
        {
          "output_type": "execute_result",
          "data": {
            "text/plain": [
              "38"
            ]
          },
          "metadata": {},
          "execution_count": 5
        }
      ]
    },
    {
      "cell_type": "markdown",
      "source": [
        "#Create lists that contain images and its labels"
      ],
      "metadata": {
        "id": "p-TUQbFbt8GB"
      }
    },
    {
      "cell_type": "code",
      "source": [
        "from google.colab import drive\n",
        "drive.mount('/content/drive')"
      ],
      "metadata": {
        "colab": {
          "base_uri": "https://localhost:8080/"
        },
        "id": "3XDlXCsviZg6",
        "outputId": "be0b49a6-c64f-4572-95bd-77da22cdb37f"
      },
      "execution_count": 4,
      "outputs": [
        {
          "output_type": "stream",
          "name": "stdout",
          "text": [
            "Mounted at /content/drive\n"
          ]
        }
      ]
    },
    {
      "cell_type": "code",
      "source": [
        "def read_img(path):\n",
        "  files_names = os.listdir(path) \n",
        "  imgs = []\n",
        "  target = []\n",
        "  for i in files_names:\n",
        "    for j in os.listdir(path+'/'+i):\n",
        "      if '.pgm' in j:\n",
        "        img = cv2.imread(path+'/'+i+'/'+j)\n",
        "        imgs.append(img)\n",
        "        target.append(i)\n",
        "  return imgs,target"
      ],
      "metadata": {
        "id": "kgwGEU0qqgeu"
      },
      "execution_count": 6,
      "outputs": []
    },
    {
      "cell_type": "markdown",
      "source": [
        "#X ==> Images\n",
        "#y ==> labels"
      ],
      "metadata": {
        "id": "vyeaVt623EBX"
      }
    },
    {
      "cell_type": "code",
      "source": [
        "from sklearn.model_selection import train_test_split\n",
        "X,y = read_img(data_path)\n"
      ],
      "metadata": {
        "id": "gSowRGo1rxpI"
      },
      "execution_count": 7,
      "outputs": []
    },
    {
      "cell_type": "code",
      "source": [
        "X = np.array(X)\n",
        "y = np.array(y).reshape(-1,1)"
      ],
      "metadata": {
        "id": "bo9HuY_1-F5_",
        "colab": {
          "base_uri": "https://localhost:8080/"
        },
        "outputId": "e275af81-69d7-4011-e259-579aa61f0fcb"
      },
      "execution_count": 8,
      "outputs": [
        {
          "output_type": "stream",
          "name": "stderr",
          "text": [
            "/usr/local/lib/python3.7/dist-packages/ipykernel_launcher.py:1: VisibleDeprecationWarning: Creating an ndarray from ragged nested sequences (which is a list-or-tuple of lists-or-tuples-or ndarrays with different lengths or shapes) is deprecated. If you meant to do this, you must specify 'dtype=object' when creating the ndarray.\n",
            "  \"\"\"Entry point for launching an IPython kernel.\n"
          ]
        }
      ]
    },
    {
      "cell_type": "markdown",
      "source": [
        "#all images size = (192,168)"
      ],
      "metadata": {
        "id": "atIEwIyM3JxH"
      }
    },
    {
      "cell_type": "code",
      "source": [
        "def resize_images(images):\n",
        "  imgs = []\n",
        "  images1 = np.asarray(images)\n",
        "  for i in images1:\n",
        "    img = cv2.resize(i,(168, 192))\n",
        "    imgs.append(img)\n",
        "\n",
        "  return imgs"
      ],
      "metadata": {
        "id": "_pdCBxJQ0R1L"
      },
      "execution_count": 9,
      "outputs": []
    },
    {
      "cell_type": "code",
      "source": [
        "images = resize_images(X)\n",
        "images[1].shape"
      ],
      "metadata": {
        "id": "h4HCjx662pVe",
        "colab": {
          "base_uri": "https://localhost:8080/"
        },
        "outputId": "d6d83e62-0355-4e62-814a-0f9d483919ca"
      },
      "execution_count": 10,
      "outputs": [
        {
          "output_type": "execute_result",
          "data": {
            "text/plain": [
              "(192, 168, 3)"
            ]
          },
          "metadata": {},
          "execution_count": 10
        }
      ]
    },
    {
      "cell_type": "code",
      "source": [
        "plt.imshow(X[20])"
      ],
      "metadata": {
        "id": "K5dlsFszr0n9",
        "outputId": "9fc23b99-64ef-4308-9c7d-c5560339c987",
        "colab": {
          "base_uri": "https://localhost:8080/",
          "height": 286
        }
      },
      "execution_count": 11,
      "outputs": [
        {
          "output_type": "execute_result",
          "data": {
            "text/plain": [
              "<matplotlib.image.AxesImage at 0x7fea5e116690>"
            ]
          },
          "metadata": {},
          "execution_count": 11
        },
        {
          "output_type": "display_data",
          "data": {
            "text/plain": [
              "<Figure size 432x288 with 1 Axes>"
            ],
            "image/png": "[encoded data removed]"
          },
          "metadata": {
            "needs_background": "light"
          }
        }
      ]
    },
    {
      "cell_type": "markdown",
      "source": [
        "#Splitting data to 90% train and 10% test"
      ],
      "metadata": {
        "id": "vzL1wH_-uSeN"
      }
    },
    {
      "cell_type": "code",
      "source": [
        "X_train, X_test, y_train, y_test =train_test_split(images,y,test_size=0.1,shuffle=True,random_state=1)\n",
        "X_train = np.array(X_train)\n",
        "X_test = np.array(X_test)\n",
        "y_train = np.array(y_train)\n",
        "y_test = np.array(y_test)"
      ],
      "metadata": {
        "id": "7TRALN1Y-xqx"
      },
      "execution_count": 12,
      "outputs": []
    },
    {
      "cell_type": "code",
      "source": [
        "X_train.shape"
      ],
      "metadata": {
        "colab": {
          "base_uri": "https://localhost:8080/"
        },
        "id": "329J4QUfDJoo",
        "outputId": "b7c5885d-ea4e-4d0f-f1d9-032c5778a7de"
      },
      "execution_count": 13,
      "outputs": [
        {
          "output_type": "execute_result",
          "data": {
            "text/plain": [
              "(2223, 192, 168, 3)"
            ]
          },
          "metadata": {},
          "execution_count": 13
        }
      ]
    },
    {
      "cell_type": "code",
      "source": [
        "y_train"
      ],
      "metadata": {
        "colab": {
          "base_uri": "https://localhost:8080/"
        },
        "id": "C4itmT8E_q8T",
        "outputId": "1410aa28-ad01-4fbf-acf3-015eb69f01ad"
      },
      "execution_count": 14,
      "outputs": [
        {
          "output_type": "execute_result",
          "data": {
            "text/plain": [
              "array([['yaleB13'],\n",
              "       ['yaleB10'],\n",
              "       ['yaleB12'],\n",
              "       ...,\n",
              "       ['yaleB12'],\n",
              "       ['yaleB08'],\n",
              "       ['yaleB12']], dtype='<U7')"
            ]
          },
          "metadata": {},
          "execution_count": 14
        }
      ]
    },
    {
      "cell_type": "markdown",
      "source": [
        "#CNN Model 1 ( without augmentation)"
      ],
      "metadata": {
        "id": "mWyzivh05pTu"
      }
    },
    {
      "cell_type": "code",
      "source": [
        "from tensorflow.keras import Sequential\n",
        "from tensorflow.keras.layers import Dense,Conv2D,Dropout,Activation,MaxPool2D,Flatten"
      ],
      "metadata": {
        "id": "1STtNY4i4jyx"
      },
      "execution_count": 15,
      "outputs": []
    },
    {
      "cell_type": "code",
      "source": [
        "model=Sequential()\n",
        "model.add(Conv2D(filters=16,kernel_size=(3,3),activation='relu',input_shape=(192,168,3)))\n",
        "model.add(MaxPool2D((2,2)))\n",
        "model.add(Conv2D(32,(3,3),activation='relu'))\n",
        "model.add(MaxPool2D((2,2)))\n",
        "model.add(Conv2D(64,(3,3),activation='relu'))\n",
        "model.add(MaxPool2D((2,2)))\n",
        "model.add(Flatten())\n",
        "model.add(Dense(64,activation='relu'))\n",
        "\n",
        "model.add(Dense(units=38,activation='softmax'))\n",
        "model.summary()"
      ],
      "metadata": {
        "id": "q0NQ7gwW63Nh",
        "outputId": "9e528e9d-8265-4b81-ff3b-398f0354ecc9",
        "colab": {
          "base_uri": "https://localhost:8080/"
        }
      },
      "execution_count": 16,
      "outputs": [
        {
          "output_type": "stream",
          "name": "stdout",
          "text": [
            "Model: \"sequential\"\n",
            "_________________________________________________________________\n",
            " Layer (type)                Output Shape              Param #   \n",
            "=================================================================\n",
            " conv2d (Conv2D)             (None, 190, 166, 16)      448       \n",
            "                                                                 \n",
            " max_pooling2d (MaxPooling2D  (None, 95, 83, 16)       0         \n",
            " )                                                               \n",
            "                                                                 \n",
            " conv2d_1 (Conv2D)           (None, 93, 81, 32)        4640      \n",
            "                                                                 \n",
            " max_pooling2d_1 (MaxPooling  (None, 46, 40, 32)       0         \n",
            " 2D)                                                             \n",
            "                                                                 \n",
            " conv2d_2 (Conv2D)           (None, 44, 38, 64)        18496     \n",
            "                                                                 \n",
            " max_pooling2d_2 (MaxPooling  (None, 22, 19, 64)       0         \n",
            " 2D)                                                             \n",
            "                                                                 \n",
            " flatten (Flatten)           (None, 26752)             0         \n",
            "                                                                 \n",
            " dense (Dense)               (None, 64)                1712192   \n",
            "                                                                 \n",
            " dense_1 (Dense)             (None, 38)                2470      \n",
            "                                                                 \n",
            "=================================================================\n",
            "Total params: 1,738,246\n",
            "Trainable params: 1,738,246\n",
            "Non-trainable params: 0\n",
            "_________________________________________________________________\n"
          ]
        }
      ]
    },
    {
      "cell_type": "code",
      "source": [
        "model.compile(optimizer='rmsprop',loss='categorical_crossentropy',metrics=['accuracy'])"
      ],
      "metadata": {
        "id": "Nboo0snF7UIn"
      },
      "execution_count": 17,
      "outputs": []
    },
    {
      "cell_type": "code",
      "source": [
        "from tensorflow.keras.preprocessing.image import ImageDataGenerator"
      ],
      "metadata": {
        "id": "4l38XWZi9u8G"
      },
      "execution_count": 18,
      "outputs": []
    },
    {
      "cell_type": "code",
      "source": [
        "from sklearn.preprocessing import LabelEncoder\n",
        "lb = LabelEncoder()\n",
        "y_train = lb.fit_transform(y_train)\n",
        "y_test = lb.fit_transform(y_test)"
      ],
      "metadata": {
        "colab": {
          "base_uri": "https://localhost:8080/"
        },
        "id": "qkou_qhzTT9D",
        "outputId": "2a2d9d5c-16e9-40b1-c42b-96b3fb49971e"
      },
      "execution_count": 19,
      "outputs": [
        {
          "output_type": "stream",
          "name": "stderr",
          "text": [
            "/usr/local/lib/python3.7/dist-packages/sklearn/preprocessing/_label.py:115: DataConversionWarning: A column-vector y was passed when a 1d array was expected. Please change the shape of y to (n_samples, ), for example using ravel().\n",
            "  y = column_or_1d(y, warn=True)\n"
          ]
        }
      ]
    },
    {
      "cell_type": "code",
      "source": [
        "from tensorflow.keras.utils import to_categorical\n",
        "y_train = to_categorical(y_train)\n",
        "y_test = to_categorical(y_test)\n",
        "\n",
        "y_test.shape"
      ],
      "metadata": {
        "colab": {
          "base_uri": "https://localhost:8080/"
        },
        "id": "I6JXTdbzUaTs",
        "outputId": "1ec267ab-1d54-4159-a396-49c222d0b525"
      },
      "execution_count": 20,
      "outputs": [
        {
          "output_type": "execute_result",
          "data": {
            "text/plain": [
              "(247, 38)"
            ]
          },
          "metadata": {},
          "execution_count": 20
        }
      ]
    },
    {
      "cell_type": "code",
      "source": [
        "X_train.shape"
      ],
      "metadata": {
        "colab": {
          "base_uri": "https://localhost:8080/"
        },
        "id": "AtI0W68qGWk4",
        "outputId": "254d10f1-583f-466d-f483-1fa6f88f48b1"
      },
      "execution_count": 21,
      "outputs": [
        {
          "output_type": "execute_result",
          "data": {
            "text/plain": [
              "(2223, 192, 168, 3)"
            ]
          },
          "metadata": {},
          "execution_count": 21
        }
      ]
    },
    {
      "cell_type": "code",
      "source": [
        "train_gen = ImageDataGenerator()\n",
        "valid_gen = ImageDataGenerator()"
      ],
      "metadata": {
        "id": "OEQw3t-F-TkP"
      },
      "execution_count": 22,
      "outputs": []
    },
    {
      "cell_type": "code",
      "source": [
        "X_train, X_valid, y_train, y_valid =train_test_split(X_train,y_train,test_size=0.1,shuffle=True,random_state=1)\n",
        "X_valid.shape"
      ],
      "metadata": {
        "id": "vSw0BpJNQ-t7",
        "colab": {
          "base_uri": "https://localhost:8080/"
        },
        "outputId": "a8cb9df1-19e3-45e3-8935-2b861b92e3c1"
      },
      "execution_count": 23,
      "outputs": [
        {
          "output_type": "execute_result",
          "data": {
            "text/plain": [
              "(223, 192, 168, 3)"
            ]
          },
          "metadata": {},
          "execution_count": 23
        }
      ]
    },
    {
      "cell_type": "code",
      "source": [
        "trainG = train_gen.flow(X_train,y_train,batch_size=32)\n",
        "validG = valid_gen.flow(X_valid,y_valid,batch_size=16)"
      ],
      "metadata": {
        "id": "T1Gbhk5jJe03"
      },
      "execution_count": 24,
      "outputs": []
    },
    {
      "cell_type": "code",
      "source": [
        "steps_train = int(len(X_train)/32)\n",
        "steps_validate = int(len(X_valid)/16)"
      ],
      "metadata": {
        "id": "RnlJ540jyFNo"
      },
      "execution_count": 25,
      "outputs": []
    },
    {
      "cell_type": "code",
      "source": [
        "history = model.fit_generator(trainG,\n",
        "                                  steps_per_epoch=steps_train, \n",
        "                                  epochs=2,\n",
        "                                  validation_data=validG,\n",
        "                                  validation_steps=steps_validate,\n",
        "                                  verbose=1,\n",
        "                                  shuffle = 1)"
      ],
      "metadata": {
        "id": "Y3f4-b_o-b2r",
        "outputId": "2dcf2bde-8edf-4ea9-9f89-35c3ce99f80b",
        "colab": {
          "base_uri": "https://localhost:8080/"
        }
      },
      "execution_count": 29,
      "outputs": [
        {
          "output_type": "stream",
          "name": "stderr",
          "text": [
            "/usr/local/lib/python3.7/dist-packages/ipykernel_launcher.py:7: UserWarning: `Model.fit_generator` is deprecated and will be removed in a future version. Please use `Model.fit`, which supports generators.\n",
            "  import sys\n"
          ]
        },
        {
          "output_type": "stream",
          "name": "stdout",
          "text": [
            "Epoch 1/2\n",
            "62/62 [==============================] - 61s 974ms/step - loss: 0.2709 - accuracy: 0.9609 - val_loss: 0.2870 - val_accuracy: 0.9327\n",
            "Epoch 2/2\n",
            "62/62 [==============================] - 55s 885ms/step - loss: 0.3648 - accuracy: 0.9487 - val_loss: 0.6341 - val_accuracy: 0.9087\n"
          ]
        }
      ]
    },
    {
      "cell_type": "code",
      "source": [
        "plt.plot(history.history['loss'])\n",
        "plt.plot(history.history['val_loss'])\n",
        "plt.legend(['training_Loss','Val_Loss'])\n",
        "plt.title('Loss')\n",
        "plt.xlabel('epochs')"
      ],
      "metadata": {
        "id": "ZI-oBfcKMs0X",
        "colab": {
          "base_uri": "https://localhost:8080/",
          "height": 312
        },
        "outputId": "86655402-cde1-44e3-e212-d699cffea7f9"
      },
      "execution_count": 30,
      "outputs": [
        {
          "output_type": "execute_result",
          "data": {
            "text/plain": [
              "Text(0.5, 0, 'epochs')"
            ]
          },
          "metadata": {},
          "execution_count": 30
        },
        {
          "output_type": "display_data",
          "data": {
            "text/plain": [
              "<Figure size 432x288 with 1 Axes>"
            ],
            "image/png": "[encoded data removed]"
          },
          "metadata": {
            "needs_background": "light"
          }
        }
      ]
    },
    {
      "cell_type": "code",
      "source": [
        "plt.plot(history.history['accuracy'])\n",
        "plt.plot(history.history['val_accuracy'])\n",
        "plt.legend(['training_accuracy','Val_accuracy'])\n",
        "plt.title('accuracy')\n",
        "plt.xlabel('epochs')"
      ],
      "metadata": {
        "colab": {
          "base_uri": "https://localhost:8080/",
          "height": 312
        },
        "id": "9yKdqWfyNMg6",
        "outputId": "bffd9de3-a44e-49a2-f14b-529ac893a2de"
      },
      "execution_count": 31,
      "outputs": [
        {
          "output_type": "execute_result",
          "data": {
            "text/plain": [
              "Text(0.5, 0, 'epochs')"
            ]
          },
          "metadata": {},
          "execution_count": 31
        },
        {
          "output_type": "display_data",
          "data": {
            "text/plain": [
              "<Figure size 432x288 with 1 Axes>"
            ],
            "image/png": "[encoded data removed]"
          },
          "metadata": {
            "needs_background": "light"
          }
        }
      ]
    },
    {
      "cell_type": "code",
      "source": [
        "train_gen_augmanted = ImageDataGenerator(width_shift_range=.1,zoom_range=0.2,horizontal_flip=True,rotation_range=45)\n",
        "trainGaug = train_gen_augmanted.flow(X_train,y_train,batch_size=32)\n"
      ],
      "metadata": {
        "id": "gO761ApmuItD"
      },
      "execution_count": 35,
      "outputs": []
    },
    {
      "cell_type": "code",
      "source": [
        "history = model.fit_generator(trainGaug,\n",
        "                                  steps_per_epoch=steps_train, \n",
        "                                  epochs=2,\n",
        "                                  validation_data=validG,\n",
        "                                  validation_steps=steps_validate,\n",
        "                                  verbose=1,\n",
        "                                  shuffle = 1)"
      ],
      "metadata": {
        "colab": {
          "base_uri": "https://localhost:8080/"
        },
        "id": "y1mSbuxzwBEp",
        "outputId": "a2b9086e-b771-4385-e0be-9ac53304190f"
      },
      "execution_count": 36,
      "outputs": [
        {
          "output_type": "stream",
          "name": "stderr",
          "text": [
            "/usr/local/lib/python3.7/dist-packages/ipykernel_launcher.py:7: UserWarning: `Model.fit_generator` is deprecated and will be removed in a future version. Please use `Model.fit`, which supports generators.\n",
            "  import sys\n"
          ]
        },
        {
          "output_type": "stream",
          "name": "stdout",
          "text": [
            "Epoch 1/2\n",
            "62/62 [==============================] - 71s 1s/step - loss: 3.9429 - accuracy: 0.0600 - val_loss: 3.0691 - val_accuracy: 0.3654\n",
            "Epoch 2/2\n",
            "62/62 [==============================] - 72s 1s/step - loss: 3.5644 - accuracy: 0.0833 - val_loss: 1.9197 - val_accuracy: 0.5433\n"
          ]
        }
      ]
    },
    {
      "cell_type": "code",
      "source": [
        "plt.plot(history.history['loss'])\n",
        "plt.plot(history.history['val_loss'])\n",
        "plt.legend(['training_Loss','Val_Loss'])\n",
        "plt.title('Loss')\n",
        "plt.xlabel('epochs')"
      ],
      "metadata": {
        "colab": {
          "base_uri": "https://localhost:8080/",
          "height": 235
        },
        "id": "btAaGiRawhGs",
        "outputId": "c05722e9-636c-4ca9-e8cb-80ad8fae2cf9"
      },
      "execution_count": 1,
      "outputs": [
        {
          "output_type": "error",
          "ename": "NameError",
          "evalue": "ignored",
          "traceback": [
            "\u001b[0;31m---------------------------------------------------------------------------\u001b[0m",
            "\u001b[0;31mNameError\u001b[0m                                 Traceback (most recent call last)",
            "\u001b[0;32m<ipython-input-1-def625bbc0b5>\u001b[0m in \u001b[0;36m<module>\u001b[0;34m()\u001b[0m\n\u001b[0;32m----> 1\u001b[0;31m \u001b[0mplt\u001b[0m\u001b[0;34m.\u001b[0m\u001b[0mplot\u001b[0m\u001b[0;34m(\u001b[0m\u001b[0mhistory\u001b[0m\u001b[0;34m.\u001b[0m\u001b[0mhistory\u001b[0m\u001b[0;34m[\u001b[0m\u001b[0;34m'loss'\u001b[0m\u001b[0;34m]\u001b[0m\u001b[0;34m)\u001b[0m\u001b[0;34m\u001b[0m\u001b[0;34m\u001b[0m\u001b[0m\n\u001b[0m\u001b[1;32m      2\u001b[0m \u001b[0mplt\u001b[0m\u001b[0;34m.\u001b[0m\u001b[0mplot\u001b[0m\u001b[0;34m(\u001b[0m\u001b[0mhistory\u001b[0m\u001b[0;34m.\u001b[0m\u001b[0mhistory\u001b[0m\u001b[0;34m[\u001b[0m\u001b[0;34m'val_loss'\u001b[0m\u001b[0;34m]\u001b[0m\u001b[0;34m)\u001b[0m\u001b[0;34m\u001b[0m\u001b[0;34m\u001b[0m\u001b[0m\n\u001b[1;32m      3\u001b[0m \u001b[0mplt\u001b[0m\u001b[0;34m.\u001b[0m\u001b[0mlegend\u001b[0m\u001b[0;34m(\u001b[0m\u001b[0;34m[\u001b[0m\u001b[0;34m'training_Loss'\u001b[0m\u001b[0;34m,\u001b[0m\u001b[0;34m'Val_Loss'\u001b[0m\u001b[0;34m]\u001b[0m\u001b[0;34m)\u001b[0m\u001b[0;34m\u001b[0m\u001b[0;34m\u001b[0m\u001b[0m\n\u001b[1;32m      4\u001b[0m \u001b[0mplt\u001b[0m\u001b[0;34m.\u001b[0m\u001b[0mtitle\u001b[0m\u001b[0;34m(\u001b[0m\u001b[0;34m'Loss'\u001b[0m\u001b[0;34m)\u001b[0m\u001b[0;34m\u001b[0m\u001b[0;34m\u001b[0m\u001b[0m\n\u001b[1;32m      5\u001b[0m \u001b[0mplt\u001b[0m\u001b[0;34m.\u001b[0m\u001b[0mxlabel\u001b[0m\u001b[0;34m(\u001b[0m\u001b[0;34m'epochs'\u001b[0m\u001b[0;34m)\u001b[0m\u001b[0;34m\u001b[0m\u001b[0;34m\u001b[0m\u001b[0m\n",
            "\u001b[0;31mNameError\u001b[0m: name 'plt' is not defined"
          ]
        }
      ]
    },
    {
      "cell_type": "code",
      "source": [
        ""
      ],
      "metadata": {
        "id": "1LDXMXi7yblL"
      },
      "execution_count": null,
      "outputs": []
    }
  ]
}